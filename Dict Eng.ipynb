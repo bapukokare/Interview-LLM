{
 "cells": [
  {
   "cell_type": "code",
   "execution_count": 3,
   "id": "e4d37a25-68dc-4893-a9de-440d85eb1a7c",
   "metadata": {},
   "outputs": [],
   "source": [
    "# from childhoo, diction we use, how we used , find sequential meaning\n",
    "d={}"
   ]
  },
  {
   "cell_type": "code",
   "execution_count": 4,
   "id": "0af96774",
   "metadata": {},
   "outputs": [
    {
     "data": {
      "text/plain": [
       "dict"
      ]
     },
     "execution_count": 4,
     "metadata": {},
     "output_type": "execute_result"
    }
   ],
   "source": [
    "type(d)"
   ]
  },
  {
   "cell_type": "code",
   "execution_count": 5,
   "id": "2f666f7f",
   "metadata": {},
   "outputs": [],
   "source": [
    "d= ()"
   ]
  },
  {
   "cell_type": "code",
   "execution_count": 6,
   "id": "6093f8c5-1902-473f-9457-f5f4c7d07f59",
   "metadata": {},
   "outputs": [
    {
     "name": "stdout",
     "output_type": "stream",
     "text": [
      "d type <class 'tuple'>\n",
      "d1 type <class 'set'>\n"
     ]
    }
   ],
   "source": [
    "print(f\"d type {type(d)}\")\n",
    "d1={1,2,3}\n",
    "print(f\"d1 type {type(d1)}\")\n"
   ]
  },
  {
   "cell_type": "code",
   "execution_count": 7,
   "id": "c94b17d2-c073-405b-92c7-82cdfbc8c575",
   "metadata": {},
   "outputs": [],
   "source": [
    "d1 = {\"name\" : \"sudh\" , \"emiil_id\" : \"ss@gmail.com\" , \"number\" :234324}"
   ]
  },
  {
   "cell_type": "code",
   "execution_count": 8,
   "id": "54360e2f-839d-4af6-83de-31e97369d317",
   "metadata": {},
   "outputs": [
    {
     "data": {
      "text/plain": [
       "dict"
      ]
     },
     "execution_count": 8,
     "metadata": {},
     "output_type": "execute_result"
    }
   ],
   "source": [
    "type(d1)"
   ]
  },
  {
   "cell_type": "code",
   "execution_count": 9,
   "id": "9cc3e3d1-7a61-476b-ae72-ccc5bb205ba5",
   "metadata": {},
   "outputs": [
    {
     "data": {
      "text/plain": [
       "{'name': 'sudh', 'emiil_id': 'ss@gmail.com', 'number': 234324}"
      ]
     },
     "execution_count": 9,
     "metadata": {},
     "output_type": "execute_result"
    }
   ],
   "source": [
    "d1"
   ]
  },
  {
   "cell_type": "code",
   "execution_count": 11,
   "id": "9ebd6ff3-1142-491a-b8ce-203118644fd1",
   "metadata": {},
   "outputs": [],
   "source": [
    "d2 = {\"name\" : \"Bapu\" , \"name\" : \"Bapukokare\"}"
   ]
  },
  {
   "cell_type": "code",
   "execution_count": 12,
   "id": "62294f90-6b4f-43eb-ab60-d8d34984a9a2",
   "metadata": {},
   "outputs": [
    {
     "data": {
      "text/plain": [
       "{'name': 'Bapukokare'}"
      ]
     },
     "execution_count": 12,
     "metadata": {},
     "output_type": "execute_result"
    }
   ],
   "source": [
    "#key cant be repeated\n",
    "#not show first key and value: key always should be unique, dict not allow to keep 2,3 key name\n",
    "d2"
   ]
  },
  {
   "cell_type": "code",
   "execution_count": 13,
   "id": "ba02f421-8b5a-4d17-8161-6d2978bcbc98",
   "metadata": {},
   "outputs": [],
   "source": [
    "#key can be numeric, floaiting point number, boolean \n",
    "d3 = {234234 : \"abc\"}"
   ]
  },
  {
   "cell_type": "code",
   "execution_count": 12,
   "id": "58416be4-b2fb-4ca7-8e91-4306694f88fc",
   "metadata": {},
   "outputs": [
    {
     "data": {
      "text/plain": [
       "{234234: 'abc'}"
      ]
     },
     "execution_count": 12,
     "metadata": {},
     "output_type": "execute_result"
    }
   ],
   "source": [
    "d3"
   ]
  },
  {
   "cell_type": "code",
   "execution_count": 14,
   "id": "a6a3cca0-f8a1-46c2-8f61-ba54c928ae2c",
   "metadata": {},
   "outputs": [],
   "source": [
    "d4 = {234.45 : \"abc\"}"
   ]
  },
  {
   "cell_type": "code",
   "execution_count": 15,
   "id": "c0f574ed-a56d-46ab-bae6-c32756a7a9a2",
   "metadata": {},
   "outputs": [
    {
     "data": {
      "text/plain": [
       "{234.45: 'abc'}"
      ]
     },
     "execution_count": 15,
     "metadata": {},
     "output_type": "execute_result"
    }
   ],
   "source": [
    "d4"
   ]
  },
  {
   "cell_type": "code",
   "execution_count": 16,
   "id": "cbde0921-f3dc-41aa-86b7-45bd05353382",
   "metadata": {},
   "outputs": [],
   "source": [
    "d5 = {True : \"abc\"}"
   ]
  },
  {
   "cell_type": "code",
   "execution_count": 17,
   "id": "69898587-5796-4ded-a8de-0224bd98c1b1",
   "metadata": {},
   "outputs": [
    {
     "data": {
      "text/plain": [
       "{True: 'abc'}"
      ]
     },
     "execution_count": 17,
     "metadata": {},
     "output_type": "execute_result"
    }
   ],
   "source": [
    "d5"
   ]
  },
  {
   "cell_type": "code",
   "execution_count": 18,
   "id": "26a9184c",
   "metadata": {},
   "outputs": [
    {
     "data": {
      "text/plain": [
       "{True: 'abc'}"
      ]
     },
     "execution_count": 18,
     "metadata": {},
     "output_type": "execute_result"
    }
   ],
   "source": [
    "d5"
   ]
  },
  {
   "cell_type": "code",
   "execution_count": 19,
   "id": "3a62712c-f609-4321-a5ef-025bc6fa434c",
   "metadata": {},
   "outputs": [
    {
     "ename": "SyntaxError",
     "evalue": "incomplete input (1865483191.py, line 2)",
     "output_type": "error",
     "traceback": [
      "\u001b[1;36m  Cell \u001b[1;32mIn[19], line 2\u001b[1;36m\u001b[0m\n\u001b[1;33m    d6 = {# : \"abc\"}\u001b[0m\n\u001b[1;37m                    ^\u001b[0m\n\u001b[1;31mSyntaxError\u001b[0m\u001b[1;31m:\u001b[0m incomplete input\n"
     ]
    }
   ],
   "source": [
    "#special characters as key are not allowed \n",
    "d6 = {# : \"abc\"}"
   ]
  },
  {
   "cell_type": "code",
   "execution_count": 20,
   "id": "1bc08c3d-008e-4b07-8f9e-0e997a29da66",
   "metadata": {},
   "outputs": [
    {
     "ename": "SyntaxError",
     "evalue": "invalid syntax (183635709.py, line 1)",
     "output_type": "error",
     "traceback": [
      "\u001b[1;36m  Cell \u001b[1;32mIn[20], line 1\u001b[1;36m\u001b[0m\n\u001b[1;33m    d7 = {@ : \"abc\"}\u001b[0m\n\u001b[1;37m          ^\u001b[0m\n\u001b[1;31mSyntaxError\u001b[0m\u001b[1;31m:\u001b[0m invalid syntax\n"
     ]
    }
   ],
   "source": [
    "d7 = {@ : \"abc\"} "
   ]
  },
  {
   "cell_type": "code",
   "execution_count": 21,
   "id": "befce4d7-cd45-4a95-ab90-4ce24802dd9d",
   "metadata": {},
   "outputs": [
    {
     "ename": "TypeError",
     "evalue": "unhashable type: 'list'",
     "output_type": "error",
     "traceback": [
      "\u001b[1;31m---------------------------------------------------------------------------\u001b[0m",
      "\u001b[1;31mTypeError\u001b[0m                                 Traceback (most recent call last)",
      "Cell \u001b[1;32mIn[21], line 2\u001b[0m\n\u001b[0;32m      1\u001b[0m \u001b[38;5;66;03m#list as key will not work\u001b[39;00m\n\u001b[1;32m----> 2\u001b[0m d8 \u001b[38;5;241m=\u001b[39m {[\u001b[38;5;241m1\u001b[39m,\u001b[38;5;241m2\u001b[39m,\u001b[38;5;241m3\u001b[39m] :\u001b[38;5;124m\"\u001b[39m\u001b[38;5;124mabc\u001b[39m\u001b[38;5;124m\"\u001b[39m}\n",
      "\u001b[1;31mTypeError\u001b[0m: unhashable type: 'list'"
     ]
    }
   ],
   "source": [
    "#list as key will not work\n",
    "d8 = {[1,2,3] :\"abc\"}"
   ]
  },
  {
   "cell_type": "code",
   "execution_count": 22,
   "id": "f27f8c4a-a794-433c-84c1-9df323ea589e",
   "metadata": {},
   "outputs": [],
   "source": [
    "# dict key as tuple works\n",
    "d9 = {(1,2,3) : \"abc\"}"
   ]
  },
  {
   "cell_type": "code",
   "execution_count": 22,
   "id": "d4146528-fa01-4435-a05a-d48339c64ed3",
   "metadata": {},
   "outputs": [
    {
     "data": {
      "text/plain": [
       "{(1, 2, 3): 'abc'}"
      ]
     },
     "execution_count": 22,
     "metadata": {},
     "output_type": "execute_result"
    }
   ],
   "source": [
    "d9"
   ]
  },
  {
   "cell_type": "code",
   "execution_count": 23,
   "id": "7c5568a7-651b-46a6-8bd5-9af3f35c9a73",
   "metadata": {},
   "outputs": [
    {
     "ename": "TypeError",
     "evalue": "unhashable type: 'set'",
     "output_type": "error",
     "traceback": [
      "\u001b[1;31m---------------------------------------------------------------------------\u001b[0m",
      "\u001b[1;31mTypeError\u001b[0m                                 Traceback (most recent call last)",
      "Cell \u001b[1;32mIn[23], line 2\u001b[0m\n\u001b[0;32m      1\u001b[0m \u001b[38;5;66;03m#set as key will not workable\u001b[39;00m\n\u001b[1;32m----> 2\u001b[0m d10 \u001b[38;5;241m=\u001b[39m {{\u001b[38;5;241m1\u001b[39m,\u001b[38;5;241m2\u001b[39m,\u001b[38;5;241m3\u001b[39m} :\u001b[38;5;124m\"\u001b[39m\u001b[38;5;124mabc\u001b[39m\u001b[38;5;124m\"\u001b[39m} \n",
      "\u001b[1;31mTypeError\u001b[0m: unhashable type: 'set'"
     ]
    }
   ],
   "source": [
    "#set as key will not workable\n",
    "d10 = {{1,2,3} :\"abc\"} "
   ]
  },
  {
   "cell_type": "code",
   "execution_count": 24,
   "id": "ebd2fec5-f953-446e-9665-d1a955e20819",
   "metadata": {},
   "outputs": [
    {
     "ename": "TypeError",
     "evalue": "unhashable type: 'dict'",
     "output_type": "error",
     "traceback": [
      "\u001b[1;31m---------------------------------------------------------------------------\u001b[0m",
      "\u001b[1;31mTypeError\u001b[0m                                 Traceback (most recent call last)",
      "Cell \u001b[1;32mIn[24], line 2\u001b[0m\n\u001b[0;32m      1\u001b[0m \u001b[38;5;66;03m# inside dict key as dict will not work, only tuple can be accepted as key\u001b[39;00m\n\u001b[1;32m----> 2\u001b[0m d11 \u001b[38;5;241m=\u001b[39m {{\u001b[38;5;124m\"\u001b[39m\u001b[38;5;124mkey\u001b[39m\u001b[38;5;124m\"\u001b[39m:\u001b[38;5;241m234\u001b[39m} : \u001b[38;5;124m\"\u001b[39m\u001b[38;5;124mabc\u001b[39m\u001b[38;5;124m\"\u001b[39m}\n",
      "\u001b[1;31mTypeError\u001b[0m: unhashable type: 'dict'"
     ]
    }
   ],
   "source": [
    "# inside dict key as dict will not work, only tuple can be accepted as key\n",
    "d11 = {{\"key\":234} : \"abc\"}"
   ]
  },
  {
   "cell_type": "code",
   "execution_count": 25,
   "id": "298e14ef-657e-4e64-a7c8-9788e0df9251",
   "metadata": {},
   "outputs": [],
   "source": [
    "#now focus on value part\n",
    "\n",
    "d12 = {\"course_name\" : [\"data science master\" , \"web dev\" ,\"java with dsa and system Design\"]}"
   ]
  },
  {
   "cell_type": "code",
   "execution_count": 26,
   "id": "4b27f8bc-5d8c-418f-acdf-890384d11624",
   "metadata": {},
   "outputs": [
    {
     "data": {
      "text/plain": [
       "{'course_name': ['data science master',\n",
       "  'web dev',\n",
       "  'java with dsa and system Design']}"
      ]
     },
     "execution_count": 26,
     "metadata": {},
     "output_type": "execute_result"
    }
   ],
   "source": [
    "d12"
   ]
  },
  {
   "cell_type": "code",
   "execution_count": 26,
   "id": "5729faa7-d79a-4085-84c4-8b0bb94c89d1",
   "metadata": {},
   "outputs": [],
   "source": [
    "# value as tuple\n",
    "d13 = {\"key\" : (1,2,3,4,5)}"
   ]
  },
  {
   "cell_type": "code",
   "execution_count": 28,
   "id": "4be9157b-f8e9-4f8f-96d3-599fe9c8b2fe",
   "metadata": {},
   "outputs": [],
   "source": [
    "# value as set\n",
    "d14 = {\"key\" :{1,2,3,4}}"
   ]
  },
  {
   "cell_type": "code",
   "execution_count": 27,
   "id": "252fa57f-4267-457a-9b22-de70fb5d6506",
   "metadata": {},
   "outputs": [],
   "source": [
    "#value as dictionaey\n",
    "d15 = {\"key\" : {\"name\" : \"sudhanshu\" , \"class\" : \"DSM\"}}"
   ]
  },
  {
   "cell_type": "code",
   "execution_count": 30,
   "id": "8de14c98-2ad4-4661-911b-93212c691e65",
   "metadata": {},
   "outputs": [
    {
     "data": {
      "text/plain": [
       "{'key': {'name': 'sudhanshu', 'class': 'DSM'}}"
      ]
     },
     "execution_count": 30,
     "metadata": {},
     "output_type": "execute_result"
    }
   ],
   "source": [
    "#dictionary inside dictionary called as nested dictionary\n",
    "d15"
   ]
  },
  {
   "cell_type": "code",
   "execution_count": 28,
   "id": "2137aec2-fb68-45c3-bb71-7d8337cfe47f",
   "metadata": {},
   "outputs": [],
   "source": [
    "d16 = {\"batch_name\" :[\"data science masters\" , \"web dev\" , \"JDS\"] , \"start_date\": (28,14,21),\"mentor_name\" : {\"krish naik\", \"sudhanshu\" , \"hitesh\", \"anurag\" , \"navin\",\"hayder\"}}"
   ]
  },
  {
   "cell_type": "code",
   "execution_count": 29,
   "id": "835e84fd-992a-4806-801a-9d1fa4d2e1bf",
   "metadata": {},
   "outputs": [
    {
     "data": {
      "text/plain": [
       "{'batch_name': ['data science masters', 'web dev', 'JDS'],\n",
       " 'start_date': (28, 14, 21),\n",
       " 'mentor_name': {'anurag',\n",
       "  'hayder',\n",
       "  'hitesh',\n",
       "  'krish naik',\n",
       "  'navin',\n",
       "  'sudhanshu'}}"
      ]
     },
     "execution_count": 29,
     "metadata": {},
     "output_type": "execute_result"
    }
   ],
   "source": [
    "d16"
   ]
  },
  {
   "cell_type": "code",
   "execution_count": 30,
   "id": "baf3dce9-0dda-416a-8200-842666d777a6",
   "metadata": {},
   "outputs": [],
   "source": [
    "# add new key and value in existing diction\n",
    "d16[\"timing\"] = (8 , 8 ,8)"
   ]
  },
  {
   "cell_type": "code",
   "execution_count": 31,
   "id": "29b85686-3dc4-4c2a-916e-7411b2bb1545",
   "metadata": {},
   "outputs": [
    {
     "data": {
      "text/plain": [
       "{'batch_name': ['data science masters', 'web dev', 'JDS'],\n",
       " 'start_date': (28, 14, 21),\n",
       " 'mentor_name': {'anurag',\n",
       "  'hayder',\n",
       "  'hitesh',\n",
       "  'krish naik',\n",
       "  'navin',\n",
       "  'sudhanshu'},\n",
       " 'timing': (8, 8, 8)}"
      ]
     },
     "execution_count": 31,
     "metadata": {},
     "output_type": "execute_result"
    }
   ],
   "source": [
    "d16"
   ]
  },
  {
   "cell_type": "code",
   "execution_count": 32,
   "id": "d5fb802b-c422-4211-a05a-33692577f2e5",
   "metadata": {},
   "outputs": [
    {
     "data": {
      "text/plain": [
       "['data science masters', 'web dev', 'JDS']"
      ]
     },
     "execution_count": 32,
     "metadata": {},
     "output_type": "execute_result"
    }
   ],
   "source": [
    "#get dictionary key details\n",
    "d16['batch_name']"
   ]
  },
  {
   "cell_type": "code",
   "execution_count": 33,
   "id": "ab27303e-2127-4821-9077-a1d9c01f3aa4",
   "metadata": {},
   "outputs": [
    {
     "data": {
      "text/plain": [
       "set"
      ]
     },
     "execution_count": 33,
     "metadata": {},
     "output_type": "execute_result"
    }
   ],
   "source": [
    "\n",
    "type(d16['mentor_name'])"
   ]
  },
  {
   "cell_type": "code",
   "execution_count": 34,
   "id": "141b9bef-44c2-421a-b185-d5cbbe56afbc",
   "metadata": {},
   "outputs": [
    {
     "ename": "KeyError",
     "evalue": "'key'",
     "output_type": "error",
     "traceback": [
      "\u001b[1;31m---------------------------------------------------------------------------\u001b[0m",
      "\u001b[1;31mKeyError\u001b[0m                                  Traceback (most recent call last)",
      "Cell \u001b[1;32mIn[34], line 1\u001b[0m\n\u001b[1;32m----> 1\u001b[0m \u001b[43md16\u001b[49m\u001b[43m[\u001b[49m\u001b[38;5;124;43m\"\u001b[39;49m\u001b[38;5;124;43mkey\u001b[39;49m\u001b[38;5;124;43m\"\u001b[39;49m\u001b[43m]\u001b[49m\n",
      "\u001b[1;31mKeyError\u001b[0m: 'key'"
     ]
    }
   ],
   "source": [
    "d16[\"key\"]"
   ]
  },
  {
   "cell_type": "code",
   "execution_count": 35,
   "id": "7e6c702a-cc0e-494f-b2bd-e4f5c6c6e612",
   "metadata": {},
   "outputs": [],
   "source": [
    "# create as new key value\n",
    "d16[\"name\"]  = \"sudhanshu\""
   ]
  },
  {
   "cell_type": "code",
   "execution_count": 36,
   "id": "f763481a-dc7b-4274-9acb-3280c8bd116f",
   "metadata": {},
   "outputs": [
    {
     "data": {
      "text/plain": [
       "{'batch_name': ['data science masters', 'web dev', 'JDS'],\n",
       " 'start_date': (28, 14, 21),\n",
       " 'mentor_name': {'anurag',\n",
       "  'hayder',\n",
       "  'hitesh',\n",
       "  'krish naik',\n",
       "  'navin',\n",
       "  'sudhanshu'},\n",
       " 'timing': (8, 8, 8),\n",
       " 'name': 'sudhanshu'}"
      ]
     },
     "execution_count": 36,
     "metadata": {},
     "output_type": "execute_result"
    }
   ],
   "source": [
    "d16"
   ]
  },
  {
   "cell_type": "code",
   "execution_count": 37,
   "id": "07aeead2-d0fa-4862-a843-96d6de25ae4c",
   "metadata": {},
   "outputs": [
    {
     "data": {
      "text/plain": [
       "'SUDHANSHU'"
      ]
     },
     "execution_count": 37,
     "metadata": {},
     "output_type": "execute_result"
    }
   ],
   "source": [
    "#make upper class in dictionary\n",
    "d16['name'].upper()"
   ]
  },
  {
   "cell_type": "code",
   "execution_count": 38,
   "id": "080301e6-c1fb-4f23-bfff-455d480cafeb",
   "metadata": {},
   "outputs": [
    {
     "data": {
      "text/plain": [
       "{'key': {'name': 'sudhanshu', 'class': 'DSM'}}"
      ]
     },
     "execution_count": 38,
     "metadata": {},
     "output_type": "execute_result"
    }
   ],
   "source": [
    "#nested dictionary\n",
    "d15"
   ]
  },
  {
   "cell_type": "code",
   "execution_count": 39,
   "id": "1ebab336-c440-489e-8593-b2f430ac2c10",
   "metadata": {},
   "outputs": [
    {
     "data": {
      "text/plain": [
       "{'name': 'sudhanshu', 'class': 'DSM'}"
      ]
     },
     "execution_count": 39,
     "metadata": {},
     "output_type": "execute_result"
    }
   ],
   "source": [
    "d15['key']"
   ]
  },
  {
   "cell_type": "code",
   "execution_count": 40,
   "id": "e321904c-e094-47d4-9a8f-0e183d2f94ef",
   "metadata": {},
   "outputs": [
    {
     "data": {
      "text/plain": [
       "dict"
      ]
     },
     "execution_count": 40,
     "metadata": {},
     "output_type": "execute_result"
    }
   ],
   "source": [
    "type(d15['key'])"
   ]
  },
  {
   "cell_type": "code",
   "execution_count": 41,
   "id": "4707fb38-edaf-4015-931a-133efe641e34",
   "metadata": {},
   "outputs": [
    {
     "data": {
      "text/plain": [
       "'DSM'"
      ]
     },
     "execution_count": 41,
     "metadata": {},
     "output_type": "execute_result"
    }
   ],
   "source": [
    "#acccess nested disction key value\n",
    "d15['key']['class']"
   ]
  },
  {
   "cell_type": "code",
   "execution_count": 42,
   "id": "921ad7e8-0924-44d7-897e-c51896ef698f",
   "metadata": {},
   "outputs": [
    {
     "data": {
      "text/plain": [
       "{'key': {'name': 'sudhanshu', 'class': 'DSM'}}"
      ]
     },
     "execution_count": 42,
     "metadata": {},
     "output_type": "execute_result"
    }
   ],
   "source": [
    "d15"
   ]
  },
  {
   "cell_type": "code",
   "execution_count": 43,
   "id": "812864c8-a425-498d-88a6-aca96ca006c6",
   "metadata": {},
   "outputs": [],
   "source": [
    "d15[\"key1\"] = \"abc\""
   ]
  },
  {
   "cell_type": "code",
   "execution_count": 44,
   "id": "39e719d9-5dcf-4409-9c14-754827698171",
   "metadata": {},
   "outputs": [
    {
     "data": {
      "text/plain": [
       "{'key': {'name': 'sudhanshu', 'class': 'DSM'}, 'key1': 'abc'}"
      ]
     },
     "execution_count": 44,
     "metadata": {},
     "output_type": "execute_result"
    }
   ],
   "source": [
    "d15"
   ]
  },
  {
   "cell_type": "code",
   "execution_count": 45,
   "id": "1bd718b2-4f13-482c-86ae-1aef3cd76151",
   "metadata": {},
   "outputs": [],
   "source": [
    "del d15['key1']"
   ]
  },
  {
   "cell_type": "code",
   "execution_count": 46,
   "id": "c334b28a-79dc-4c67-a8f3-497c5ca2827a",
   "metadata": {},
   "outputs": [
    {
     "data": {
      "text/plain": [
       "{'key': {'name': 'sudhanshu', 'class': 'DSM'}}"
      ]
     },
     "execution_count": 46,
     "metadata": {},
     "output_type": "execute_result"
    }
   ],
   "source": [
    "d15"
   ]
  },
  {
   "cell_type": "code",
   "execution_count": 47,
   "id": "c507919c-5d86-48c7-95e1-02e2c960c86b",
   "metadata": {},
   "outputs": [],
   "source": [
    "#clear dictionary: wipe out complete data inside diction\n",
    "d15.clear()"
   ]
  },
  {
   "cell_type": "code",
   "execution_count": 48,
   "id": "c732b69b-516a-4c45-8223-5216460de583",
   "metadata": {},
   "outputs": [
    {
     "data": {
      "text/plain": [
       "{}"
      ]
     },
     "execution_count": 48,
     "metadata": {},
     "output_type": "execute_result"
    }
   ],
   "source": [
    "d15"
   ]
  },
  {
   "cell_type": "code",
   "execution_count": 49,
   "id": "f2235d2a-8dc5-4e56-9bae-b07f616e819d",
   "metadata": {},
   "outputs": [
    {
     "data": {
      "text/plain": [
       "5"
      ]
     },
     "execution_count": 49,
     "metadata": {},
     "output_type": "execute_result"
    }
   ],
   "source": [
    "len(d16)"
   ]
  },
  {
   "cell_type": "code",
   "execution_count": 50,
   "id": "32c0c83d-aaa7-4b9a-920d-b4ee0a716ba7",
   "metadata": {},
   "outputs": [
    {
     "data": {
      "text/plain": [
       "{'batch_name': ['data science masters', 'web dev', 'JDS'],\n",
       " 'start_date': (28, 14, 21),\n",
       " 'mentor_name': {'anurag',\n",
       "  'hayder',\n",
       "  'hitesh',\n",
       "  'krish naik',\n",
       "  'navin',\n",
       "  'sudhanshu'},\n",
       " 'timing': (8, 8, 8),\n",
       " 'name': 'sudhanshu'}"
      ]
     },
     "execution_count": 50,
     "metadata": {},
     "output_type": "execute_result"
    }
   ],
   "source": [
    "d16"
   ]
  },
  {
   "cell_type": "code",
   "execution_count": 51,
   "id": "5d2fcf87-7440-46e9-9958-adc264cce686",
   "metadata": {},
   "outputs": [
    {
     "data": {
      "text/plain": [
       "dict_keys(['batch_name', 'start_date', 'mentor_name', 'timing', 'name'])"
      ]
     },
     "execution_count": 51,
     "metadata": {},
     "output_type": "execute_result"
    }
   ],
   "source": [
    "# complete set of keys\n",
    "d16.keys()"
   ]
  },
  {
   "cell_type": "code",
   "execution_count": 52,
   "id": "5b16bf2a-ab7c-4d78-82f1-9e7a3fd69832",
   "metadata": {},
   "outputs": [
    {
     "data": {
      "text/plain": [
       "dict_values([['data science masters', 'web dev', 'JDS'], (28, 14, 21), {'anurag', 'hitesh', 'navin', 'sudhanshu', 'krish naik', 'hayder'}, (8, 8, 8), 'sudhanshu'])"
      ]
     },
     "execution_count": 52,
     "metadata": {},
     "output_type": "execute_result"
    }
   ],
   "source": [
    "#get dictionary values\n",
    "d16.values()"
   ]
  },
  {
   "cell_type": "code",
   "execution_count": 53,
   "id": "d2fc5147-49ff-44cc-af6b-aaf149e3098c",
   "metadata": {},
   "outputs": [
    {
     "data": {
      "text/plain": [
       "[['data science masters', 'web dev', 'JDS'],\n",
       " (28, 14, 21),\n",
       " {'anurag', 'hayder', 'hitesh', 'krish naik', 'navin', 'sudhanshu'},\n",
       " (8, 8, 8),\n",
       " 'sudhanshu']"
      ]
     },
     "execution_count": 53,
     "metadata": {},
     "output_type": "execute_result"
    }
   ],
   "source": [
    "#convert dict values to list\n",
    "list(d16.values())"
   ]
  },
  {
   "cell_type": "code",
   "execution_count": 54,
   "id": "84ccc888-a7a8-40ea-9bc9-4e60b0c26408",
   "metadata": {},
   "outputs": [
    {
     "data": {
      "text/plain": [
       "['batch_name', 'start_date', 'mentor_name', 'timing', 'name']"
      ]
     },
     "execution_count": 54,
     "metadata": {},
     "output_type": "execute_result"
    }
   ],
   "source": [
    "#convert keys to list\n",
    "list(d16.keys())"
   ]
  },
  {
   "cell_type": "code",
   "execution_count": 55,
   "id": "7bf7fc4a-b25c-4134-abfc-cdc8c91c643d",
   "metadata": {},
   "outputs": [
    {
     "data": {
      "text/plain": [
       "[('batch_name', ['data science masters', 'web dev', 'JDS']),\n",
       " ('start_date', (28, 14, 21)),\n",
       " ('mentor_name',\n",
       "  {'anurag', 'hayder', 'hitesh', 'krish naik', 'navin', 'sudhanshu'}),\n",
       " ('timing', (8, 8, 8)),\n",
       " ('name', 'sudhanshu')]"
      ]
     },
     "execution_count": 55,
     "metadata": {},
     "output_type": "execute_result"
    }
   ],
   "source": [
    "# get all items list of dictionary\n",
    "list(d16.items())"
   ]
  },
  {
   "cell_type": "code",
   "execution_count": 56,
   "id": "0b18d17c-a8d3-4e5d-ac4e-ebab7a38f816",
   "metadata": {},
   "outputs": [
    {
     "data": {
      "text/plain": [
       "{'batch_name': ['data science masters', 'web dev', 'JDS'],\n",
       " 'start_date': (28, 14, 21),\n",
       " 'mentor_name': {'anurag',\n",
       "  'hayder',\n",
       "  'hitesh',\n",
       "  'krish naik',\n",
       "  'navin',\n",
       "  'sudhanshu'},\n",
       " 'timing': (8, 8, 8),\n",
       " 'name': 'sudhanshu'}"
      ]
     },
     "execution_count": 56,
     "metadata": {},
     "output_type": "execute_result"
    }
   ],
   "source": [
    "d16"
   ]
  },
  {
   "cell_type": "code",
   "execution_count": 57,
   "id": "dae688e2-d88b-429c-8ded-4b320e949e45",
   "metadata": {},
   "outputs": [],
   "source": [
    "#deep copy approach\n",
    "#create replica of dictionary called as deep copy , \n",
    "d17 = d16.copy()"
   ]
  },
  {
   "cell_type": "code",
   "execution_count": 67,
   "id": "45f38137-fdcb-45cb-84b8-385b74e7ffeb",
   "metadata": {},
   "outputs": [
    {
     "data": {
      "text/plain": [
       "{'batch_name': ['data science masters', 'web dev', 'JDS'],\n",
       " 'start_date': (28, 14, 21),\n",
       " 'mentor_name': {'anurag',\n",
       "  'hayder',\n",
       "  'hitesh',\n",
       "  'krish naik',\n",
       "  'navin',\n",
       "  'sudhanshu'},\n",
       " 'timing': (8, 8, 8),\n",
       " 'name': 'sudhanshu'}"
      ]
     },
     "execution_count": 67,
     "metadata": {},
     "output_type": "execute_result"
    }
   ],
   "source": [
    "d17"
   ]
  },
  {
   "cell_type": "code",
   "execution_count": 58,
   "id": "a515ff20-bfca-48c2-b434-c83f70b4a314",
   "metadata": {},
   "outputs": [],
   "source": [
    "del d16['name']"
   ]
  },
  {
   "cell_type": "code",
   "execution_count": 59,
   "id": "bdc63c30-f1da-4a91-bc9e-f2ca893e55c9",
   "metadata": {},
   "outputs": [
    {
     "data": {
      "text/plain": [
       "{'batch_name': ['data science masters', 'web dev', 'JDS'],\n",
       " 'start_date': (28, 14, 21),\n",
       " 'mentor_name': {'anurag',\n",
       "  'hayder',\n",
       "  'hitesh',\n",
       "  'krish naik',\n",
       "  'navin',\n",
       "  'sudhanshu'},\n",
       " 'timing': (8, 8, 8)}"
      ]
     },
     "execution_count": 59,
     "metadata": {},
     "output_type": "execute_result"
    }
   ],
   "source": [
    "d16"
   ]
  },
  {
   "cell_type": "code",
   "execution_count": 61,
   "id": "d19802a8-9f6d-4f08-a1aa-f5cce99777ca",
   "metadata": {},
   "outputs": [
    {
     "data": {
      "text/plain": [
       "{'batch_name': ['data science masters', 'web dev', 'JDS'],\n",
       " 'start_date': (28, 14, 21),\n",
       " 'mentor_name': {'anurag',\n",
       "  'hayder',\n",
       "  'hitesh',\n",
       "  'krish naik',\n",
       "  'navin',\n",
       "  'sudhanshu'},\n",
       " 'timing': (8, 8, 8),\n",
       " 'name': 'sudhanshu'}"
      ]
     },
     "execution_count": 61,
     "metadata": {},
     "output_type": "execute_result"
    }
   ],
   "source": [
    "d17"
   ]
  },
  {
   "cell_type": "code",
   "execution_count": 62,
   "id": "a1d97415-7d80-4495-8338-54bc17fec4bb",
   "metadata": {},
   "outputs": [],
   "source": [
    "#shallow copy: any change in both dict, will refelct in both diction\n",
    "d18 = d16"
   ]
  },
  {
   "cell_type": "code",
   "execution_count": 63,
   "id": "6f621697-0638-4c44-982f-6142ecec9fb6",
   "metadata": {},
   "outputs": [
    {
     "data": {
      "text/plain": [
       "{'batch_name': ['data science masters', 'web dev', 'JDS'],\n",
       " 'start_date': (28, 14, 21),\n",
       " 'mentor_name': {'anurag',\n",
       "  'hayder',\n",
       "  'hitesh',\n",
       "  'krish naik',\n",
       "  'navin',\n",
       "  'sudhanshu'},\n",
       " 'timing': (8, 8, 8)}"
      ]
     },
     "execution_count": 63,
     "metadata": {},
     "output_type": "execute_result"
    }
   ],
   "source": [
    "\n",
    "d18"
   ]
  },
  {
   "cell_type": "code",
   "execution_count": 64,
   "id": "0dd83fa8-c47b-47c0-8cf4-7e4aa88f80e3",
   "metadata": {},
   "outputs": [
    {
     "data": {
      "text/plain": [
       "{'batch_name': ['data science masters', 'web dev', 'JDS'],\n",
       " 'start_date': (28, 14, 21),\n",
       " 'mentor_name': {'anurag',\n",
       "  'hayder',\n",
       "  'hitesh',\n",
       "  'krish naik',\n",
       "  'navin',\n",
       "  'sudhanshu'},\n",
       " 'timing': (8, 8, 8)}"
      ]
     },
     "execution_count": 64,
     "metadata": {},
     "output_type": "execute_result"
    }
   ],
   "source": [
    "#copy method replicate complete memory data to different memory location\n",
    "d16"
   ]
  },
  {
   "cell_type": "code",
   "execution_count": 75,
   "id": "5ef2ab57-4cce-4ba9-b847-47f0e520c09d",
   "metadata": {},
   "outputs": [
    {
     "ename": "TypeError",
     "evalue": "pop expected at least 1 argument, got 0",
     "output_type": "error",
     "traceback": [
      "\u001b[0;31m---------------------------------------------------------------------------\u001b[0m",
      "\u001b[0;31mTypeError\u001b[0m                                 Traceback (most recent call last)",
      "Cell \u001b[0;32mIn[75], line 1\u001b[0m\n\u001b[0;32m----> 1\u001b[0m \u001b[43md16\u001b[49m\u001b[38;5;241;43m.\u001b[39;49m\u001b[43mpop\u001b[49m\u001b[43m(\u001b[49m\u001b[43m)\u001b[49m\n",
      "\u001b[0;31mTypeError\u001b[0m: pop expected at least 1 argument, got 0"
     ]
    }
   ],
   "source": [
    "#pop require one argument as key name\n",
    "d16.pop()"
   ]
  },
  {
   "cell_type": "code",
   "execution_count": 65,
   "id": "63d46c51-53f4-41ce-8803-ef9434aab714",
   "metadata": {},
   "outputs": [
    {
     "data": {
      "text/plain": [
       "(8, 8, 8)"
      ]
     },
     "execution_count": 65,
     "metadata": {},
     "output_type": "execute_result"
    }
   ],
   "source": [
    "#pass key timing\n",
    "d16.pop('timing')"
   ]
  },
  {
   "cell_type": "code",
   "execution_count": 66,
   "id": "f8fe9a1c-fa43-485f-bd2e-b80c805e05e4",
   "metadata": {},
   "outputs": [
    {
     "data": {
      "text/plain": [
       "{'batch_name': ['data science masters', 'web dev', 'JDS'],\n",
       " 'start_date': (28, 14, 21),\n",
       " 'mentor_name': {'anurag',\n",
       "  'hayder',\n",
       "  'hitesh',\n",
       "  'krish naik',\n",
       "  'navin',\n",
       "  'sudhanshu'}}"
      ]
     },
     "execution_count": 66,
     "metadata": {},
     "output_type": "execute_result"
    }
   ],
   "source": [
    "d16"
   ]
  },
  {
   "cell_type": "code",
   "execution_count": 67,
   "id": "e2c4637d-ad39-4120-95ed-dc65e1b40a1c",
   "metadata": {},
   "outputs": [
    {
     "data": {
      "text/plain": [
       "{'anurag', 'hayder', 'hitesh', 'krish naik', 'navin', 'sudhanshu'}"
      ]
     },
     "execution_count": 67,
     "metadata": {},
     "output_type": "execute_result"
    }
   ],
   "source": [
    "d16.pop('mentor_name')"
   ]
  },
  {
   "cell_type": "code",
   "execution_count": 69,
   "id": "6fa660e1-4447-46f9-b131-74b3d5eed4c7",
   "metadata": {},
   "outputs": [
    {
     "data": {
      "text/plain": [
       "{'batch_name': ['data science masters', 'web dev', 'JDS'],\n",
       " 'start_date': (28, 14, 21)}"
      ]
     },
     "execution_count": 69,
     "metadata": {},
     "output_type": "execute_result"
    }
   ],
   "source": [
    "d16"
   ]
  },
  {
   "cell_type": "code",
   "execution_count": 72,
   "id": "627febc5-7595-48a2-9b3b-9f5c026c4e4c",
   "metadata": {},
   "outputs": [
    {
     "data": {
      "text/plain": [
       "{1: ('a', 'b', 'c'), 2: ('a', 'b', 'c'), 3: ('a', 'b', 'c')}"
      ]
     },
     "execution_count": 72,
     "metadata": {},
     "output_type": "execute_result"
    }
   ],
   "source": [
    "# create multiple keys and pass value at a time with\n",
    "d={}\n",
    "d.fromkeys((1,2,3) , ('a','b','c'))"
   ]
  },
  {
   "cell_type": "code",
   "execution_count": 73,
   "id": "9ff1a27b-674d-4147-8f11-d562480b7d4d",
   "metadata": {},
   "outputs": [],
   "source": [
    "d19 = {\"key1\" : \"value\" , \"key2\" : \"value2\"}\n",
    "d20 = {\"key3\" : \"value3\" , \"key4\" :\"value4\"}"
   ]
  },
  {
   "cell_type": "code",
   "execution_count": 74,
   "id": "93cd01a1-c9ee-45f5-8b5f-1ae7c353a49a",
   "metadata": {},
   "outputs": [
    {
     "data": {
      "text/plain": [
       "({'key1': 'value', 'key2': 'value2'}, {'key3': 'value3', 'key4': 'value4'})"
      ]
     },
     "execution_count": 74,
     "metadata": {},
     "output_type": "execute_result"
    }
   ],
   "source": [
    "# dictionary inside tuple\n",
    "(d19,d20)"
   ]
  },
  {
   "cell_type": "code",
   "execution_count": 75,
   "id": "f4b4bc9f-c75c-4ba4-9502-dbb51a4c213b",
   "metadata": {},
   "outputs": [],
   "source": [
    "#d19 update or include d20 values \n",
    "d19.update(d20)"
   ]
  },
  {
   "cell_type": "code",
   "execution_count": 76,
   "id": "4acfa6eb-a378-41c8-9ebe-839119e77916",
   "metadata": {},
   "outputs": [
    {
     "data": {
      "text/plain": [
       "{'key1': 'value', 'key2': 'value2', 'key3': 'value3', 'key4': 'value4'}"
      ]
     },
     "execution_count": 76,
     "metadata": {},
     "output_type": "execute_result"
    }
   ],
   "source": [
    "d19"
   ]
  },
  {
   "cell_type": "code",
   "execution_count": 77,
   "id": "f9f8c7e5-fd82-47e2-92fe-ab1be1e21916",
   "metadata": {},
   "outputs": [
    {
     "data": {
      "text/plain": [
       "{'key3': 'value3', 'key4': 'value4'}"
      ]
     },
     "execution_count": 77,
     "metadata": {},
     "output_type": "execute_result"
    }
   ],
   "source": [
    "d20"
   ]
  },
  {
   "cell_type": "code",
   "execution_count": 78,
   "id": "606bbed3-8025-4205-ac93-8b02fd195484",
   "metadata": {},
   "outputs": [],
   "source": [
    "d20.update(d19)"
   ]
  },
  {
   "cell_type": "code",
   "execution_count": 80,
   "id": "f5ad9e0b-74ac-49c6-b5a4-8f3b33f35642",
   "metadata": {},
   "outputs": [
    {
     "data": {
      "text/plain": [
       "{'key3': 'value3', 'key4': 'value4', 'key1': 'value', 'key2': 'value2'}"
      ]
     },
     "execution_count": 80,
     "metadata": {},
     "output_type": "execute_result"
    }
   ],
   "source": [
    "d20"
   ]
  },
  {
   "cell_type": "code",
   "execution_count": 81,
   "id": "c1444366-3cdc-4eab-8d0b-17c72c57f262",
   "metadata": {},
   "outputs": [],
   "source": [
    "# get key value\n",
    "d20.get(\"sudh\")"
   ]
  },
  {
   "cell_type": "code",
   "execution_count": 82,
   "id": "4c391885-8935-4578-92ff-2238e4e93ec3",
   "metadata": {},
   "outputs": [
    {
     "data": {
      "text/plain": [
       "'value3'"
      ]
     },
     "execution_count": 82,
     "metadata": {},
     "output_type": "execute_result"
    }
   ],
   "source": [
    "d20.get(\"key3\")"
   ]
  },
  {
   "cell_type": "code",
   "execution_count": 83,
   "id": "5056dde6-b18b-4fea-8a9d-a804ab65e5f9",
   "metadata": {},
   "outputs": [
    {
     "data": {
      "text/plain": [
       "'value3'"
      ]
     },
     "execution_count": 83,
     "metadata": {},
     "output_type": "execute_result"
    }
   ],
   "source": [
    "#\n",
    "d20[\"key3\"]"
   ]
  },
  {
   "cell_type": "code",
   "execution_count": 84,
   "id": "d03d4933-a2c4-49cc-b089-a825f481ff57",
   "metadata": {},
   "outputs": [
    {
     "ename": "KeyError",
     "evalue": "'sudh'",
     "output_type": "error",
     "traceback": [
      "\u001b[1;31m---------------------------------------------------------------------------\u001b[0m",
      "\u001b[1;31mKeyError\u001b[0m                                  Traceback (most recent call last)",
      "Cell \u001b[1;32mIn[84], line 1\u001b[0m\n\u001b[1;32m----> 1\u001b[0m \u001b[43md20\u001b[49m\u001b[43m[\u001b[49m\u001b[38;5;124;43m\"\u001b[39;49m\u001b[38;5;124;43msudh\u001b[39;49m\u001b[38;5;124;43m\"\u001b[39;49m\u001b[43m]\u001b[49m\n",
      "\u001b[1;31mKeyError\u001b[0m: 'sudh'"
     ]
    }
   ],
   "source": [
    "d20[\"sudh\"]"
   ]
  },
  {
   "cell_type": "markdown",
   "id": "f3cdefe5-89c2-497e-802f-69232ab3eb0d",
   "metadata": {},
   "source": [
    "Dictionary Comprehensions"
   ]
  },
  {
   "cell_type": "code",
   "execution_count": 85,
   "id": "cbec9e65-e344-427e-80b5-dd806acf0dbe",
   "metadata": {},
   "outputs": [
    {
     "data": {
      "text/plain": [
       "{1: 1, 2: 4, 3: 9, 4: 16, 5: 25, 6: 36, 7: 49, 8: 64, 9: 81, 10: 100}"
      ]
     },
     "execution_count": 85,
     "metadata": {},
     "output_type": "execute_result"
    }
   ],
   "source": [
    "{i : i**2 for i in range(1,11)}"
   ]
  },
  {
   "cell_type": "code",
   "execution_count": 86,
   "id": "5e69a7a4-9f4f-4e4a-bd4e-6f9fdf2a4a60",
   "metadata": {},
   "outputs": [
    {
     "data": {
      "text/plain": [
       "[1, 2, 3, 4, 5, 6, 7, 8, 9, 10]"
      ]
     },
     "execution_count": 86,
     "metadata": {},
     "output_type": "execute_result"
    }
   ],
   "source": [
    "list(range(1,11))"
   ]
  },
  {
   "cell_type": "code",
   "execution_count": 87,
   "id": "089afbd0-e19e-477a-b490-995b2438aa00",
   "metadata": {},
   "outputs": [
    {
     "data": {
      "text/plain": [
       "{1: 11, 2: 12, 3: 13, 4: 14, 5: 15, 6: 16, 7: 17, 8: 18, 9: 19, 10: 20}"
      ]
     },
     "execution_count": 87,
     "metadata": {},
     "output_type": "execute_result"
    }
   ],
   "source": [
    "{i : i+10 for i in range(1,11)}"
   ]
  },
  {
   "cell_type": "code",
   "execution_count": 72,
   "id": "8bdee747-00d5-410d-8a38-736d394ac022",
   "metadata": {},
   "outputs": [],
   "source": [
    "import math\n",
    "d21 = {i :math.log10(i) for i in range(1,11)}\n"
   ]
  },
  {
   "cell_type": "code",
   "execution_count": 89,
   "id": "a899350a",
   "metadata": {},
   "outputs": [],
   "source": [
    "#sory dictionary by key or value, and rerank \n",
    "dl1= {i : i**2 for i in range(1,11)}"
   ]
  },
  {
   "cell_type": "code",
   "execution_count": 98,
   "id": "c05e9c98",
   "metadata": {},
   "outputs": [
    {
     "data": {
      "text/plain": [
       "{1: 1, 2: 4, 3: 9, 4: 16, 5: 25, 6: 36, 7: 49, 8: 64, 9: 81, 10: 100}"
      ]
     },
     "execution_count": 98,
     "metadata": {},
     "output_type": "execute_result"
    }
   ],
   "source": [
    "dl1"
   ]
  },
  {
   "cell_type": "code",
   "execution_count": 94,
   "id": "47197eea",
   "metadata": {},
   "outputs": [],
   "source": [
    "dl2 = sorted(dl1.items(),key= lambda item:item[1], reverse=True)"
   ]
  },
  {
   "cell_type": "code",
   "execution_count": 95,
   "id": "0b0f62ab",
   "metadata": {},
   "outputs": [
    {
     "data": {
      "text/plain": [
       "[(10, 100),\n",
       " (9, 81),\n",
       " (8, 64),\n",
       " (7, 49),\n",
       " (6, 36),\n",
       " (5, 25),\n",
       " (4, 16),\n",
       " (3, 9),\n",
       " (2, 4),\n",
       " (1, 1)]"
      ]
     },
     "execution_count": 95,
     "metadata": {},
     "output_type": "execute_result"
    }
   ],
   "source": [
    "dl2"
   ]
  },
  {
   "cell_type": "code",
   "execution_count": 99,
   "id": "d44dfcb6",
   "metadata": {},
   "outputs": [
    {
     "ename": "AttributeError",
     "evalue": "'list' object has no attribute 'keys'",
     "output_type": "error",
     "traceback": [
      "\u001b[1;31m---------------------------------------------------------------------------\u001b[0m",
      "\u001b[1;31mAttributeError\u001b[0m                            Traceback (most recent call last)",
      "Cell \u001b[1;32mIn[99], line 1\u001b[0m\n\u001b[1;32m----> 1\u001b[0m \u001b[43mdl2\u001b[49m\u001b[38;5;241;43m.\u001b[39;49m\u001b[43mkeys\u001b[49m()\n",
      "\u001b[1;31mAttributeError\u001b[0m: 'list' object has no attribute 'keys'"
     ]
    }
   ],
   "source": [
    "dl2.keys()"
   ]
  },
  {
   "cell_type": "code",
   "execution_count": 100,
   "id": "ba2271ac-5c70-4553-abef-08dfdee630e5",
   "metadata": {},
   "outputs": [
    {
     "data": {
      "text/plain": [
       "{'batch_name': ['data science masters', 'web dev', 'JDS'],\n",
       " 'start_date': (28, 14, 21)}"
      ]
     },
     "execution_count": 100,
     "metadata": {},
     "output_type": "execute_result"
    }
   ],
   "source": [
    "d16"
   ]
  },
  {
   "cell_type": "code",
   "execution_count": 101,
   "id": "742fb622-6b82-4e1d-aa3e-974c7cdce39e",
   "metadata": {},
   "outputs": [
    {
     "data": {
      "text/plain": [
       "True"
      ]
     },
     "execution_count": 101,
     "metadata": {},
     "output_type": "execute_result"
    }
   ],
   "source": [
    "'batch_name' in d16"
   ]
  },
  {
   "cell_type": "code",
   "execution_count": 109,
   "id": "5f4efd76-ec46-41c9-a114-ca2ffa7474ed",
   "metadata": {},
   "outputs": [
    {
     "data": {
      "text/plain": [
       "{1: 1, 2: 4, 3: 9, 4: 16, 5: 25, 6: 36, 7: 49, 8: 64, 9: 81, 10: 100}"
      ]
     },
     "execution_count": 109,
     "metadata": {},
     "output_type": "execute_result"
    }
   ],
   "source": [
    "dl1\n",
    "d21= dl1.copy()\n",
    "d21"
   ]
  },
  {
   "cell_type": "code",
   "execution_count": 107,
   "id": "2c0a27b7-3882-4223-ac6f-33f711c4b590",
   "metadata": {},
   "outputs": [
    {
     "data": {
      "text/plain": [
       "dict_keys([1, 2, 3, 4, 5, 6, 7, 8, 9, 10])"
      ]
     },
     "execution_count": 107,
     "metadata": {},
     "output_type": "execute_result"
    }
   ],
   "source": [
    "d21.keys()"
   ]
  },
  {
   "cell_type": "code",
   "execution_count": 108,
   "id": "dfcd9147-c0b0-4f4b-a8aa-fcf8e853bf34",
   "metadata": {},
   "outputs": [
    {
     "name": "stdout",
     "output_type": "stream",
     "text": [
      "4\n",
      "16\n",
      "36\n",
      "64\n",
      "100\n"
     ]
    }
   ],
   "source": [
    "for i in d21.keys():\n",
    "    if i % 2 == 0 :\n",
    "        print(d21[i])\n",
    "        "
   ]
  },
  {
   "cell_type": "code",
   "execution_count": 110,
   "id": "537b736b-4b27-4103-8365-db042814c943",
   "metadata": {},
   "outputs": [
    {
     "data": {
      "text/plain": [
       "dict_values([1, 4, 9, 16, 25, 36, 49, 64, 81, 100])"
      ]
     },
     "execution_count": 110,
     "metadata": {},
     "output_type": "execute_result"
    }
   ],
   "source": [
    "d21.values()"
   ]
  },
  {
   "cell_type": "code",
   "execution_count": 111,
   "id": "72a2d4f1",
   "metadata": {},
   "outputs": [],
   "source": [
    "import numpy as np\n",
    "import pandas as pd\n",
    "df = pd.DataFrame(data={'Animal': ['cat', 'penguin', 'dog',\n",
    "                                  'spider', 'snake'],\n",
    "                        'Number_legs': [4, 2, 4, 8, np.nan]})\n"
   ]
  },
  {
   "cell_type": "code",
   "execution_count": 112,
   "id": "5f28296b",
   "metadata": {},
   "outputs": [
    {
     "data": {
      "text/html": [
       "<div>\n",
       "<style scoped>\n",
       "    .dataframe tbody tr th:only-of-type {\n",
       "        vertical-align: middle;\n",
       "    }\n",
       "\n",
       "    .dataframe tbody tr th {\n",
       "        vertical-align: top;\n",
       "    }\n",
       "\n",
       "    .dataframe thead th {\n",
       "        text-align: right;\n",
       "    }\n",
       "</style>\n",
       "<table border=\"1\" class=\"dataframe\">\n",
       "  <thead>\n",
       "    <tr style=\"text-align: right;\">\n",
       "      <th></th>\n",
       "      <th>Animal</th>\n",
       "      <th>Number_legs</th>\n",
       "    </tr>\n",
       "  </thead>\n",
       "  <tbody>\n",
       "    <tr>\n",
       "      <th>0</th>\n",
       "      <td>cat</td>\n",
       "      <td>4.0</td>\n",
       "    </tr>\n",
       "    <tr>\n",
       "      <th>1</th>\n",
       "      <td>penguin</td>\n",
       "      <td>2.0</td>\n",
       "    </tr>\n",
       "    <tr>\n",
       "      <th>2</th>\n",
       "      <td>dog</td>\n",
       "      <td>4.0</td>\n",
       "    </tr>\n",
       "    <tr>\n",
       "      <th>3</th>\n",
       "      <td>spider</td>\n",
       "      <td>8.0</td>\n",
       "    </tr>\n",
       "    <tr>\n",
       "      <th>4</th>\n",
       "      <td>snake</td>\n",
       "      <td>NaN</td>\n",
       "    </tr>\n",
       "  </tbody>\n",
       "</table>\n",
       "</div>"
      ],
      "text/plain": [
       "    Animal  Number_legs\n",
       "0      cat          4.0\n",
       "1  penguin          2.0\n",
       "2      dog          4.0\n",
       "3   spider          8.0\n",
       "4    snake          NaN"
      ]
     },
     "execution_count": 112,
     "metadata": {},
     "output_type": "execute_result"
    }
   ],
   "source": [
    "df"
   ]
  },
  {
   "cell_type": "code",
   "execution_count": 113,
   "id": "24f40638",
   "metadata": {},
   "outputs": [
    {
     "data": {
      "text/html": [
       "<div>\n",
       "<style scoped>\n",
       "    .dataframe tbody tr th:only-of-type {\n",
       "        vertical-align: middle;\n",
       "    }\n",
       "\n",
       "    .dataframe tbody tr th {\n",
       "        vertical-align: top;\n",
       "    }\n",
       "\n",
       "    .dataframe thead th {\n",
       "        text-align: right;\n",
       "    }\n",
       "</style>\n",
       "<table border=\"1\" class=\"dataframe\">\n",
       "  <thead>\n",
       "    <tr style=\"text-align: right;\">\n",
       "      <th></th>\n",
       "      <th>Animal</th>\n",
       "      <th>Number_legs</th>\n",
       "      <th>default rank</th>\n",
       "    </tr>\n",
       "  </thead>\n",
       "  <tbody>\n",
       "    <tr>\n",
       "      <th>0</th>\n",
       "      <td>cat</td>\n",
       "      <td>4.0</td>\n",
       "      <td>2.5</td>\n",
       "    </tr>\n",
       "    <tr>\n",
       "      <th>1</th>\n",
       "      <td>penguin</td>\n",
       "      <td>2.0</td>\n",
       "      <td>1.0</td>\n",
       "    </tr>\n",
       "    <tr>\n",
       "      <th>2</th>\n",
       "      <td>dog</td>\n",
       "      <td>4.0</td>\n",
       "      <td>2.5</td>\n",
       "    </tr>\n",
       "    <tr>\n",
       "      <th>3</th>\n",
       "      <td>spider</td>\n",
       "      <td>8.0</td>\n",
       "      <td>4.0</td>\n",
       "    </tr>\n",
       "    <tr>\n",
       "      <th>4</th>\n",
       "      <td>snake</td>\n",
       "      <td>NaN</td>\n",
       "      <td>NaN</td>\n",
       "    </tr>\n",
       "  </tbody>\n",
       "</table>\n",
       "</div>"
      ],
      "text/plain": [
       "    Animal  Number_legs  default rank\n",
       "0      cat          4.0           2.5\n",
       "1  penguin          2.0           1.0\n",
       "2      dog          4.0           2.5\n",
       "3   spider          8.0           4.0\n",
       "4    snake          NaN           NaN"
      ]
     },
     "execution_count": 113,
     "metadata": {},
     "output_type": "execute_result"
    }
   ],
   "source": [
    "df['default rank'] = df['Number_legs'].rank()\n",
    "df"
   ]
  },
  {
   "cell_type": "code",
   "execution_count": 117,
   "id": "e21dbb03",
   "metadata": {},
   "outputs": [
    {
     "data": {
      "text/html": [
       "<div>\n",
       "<style scoped>\n",
       "    .dataframe tbody tr th:only-of-type {\n",
       "        vertical-align: middle;\n",
       "    }\n",
       "\n",
       "    .dataframe tbody tr th {\n",
       "        vertical-align: top;\n",
       "    }\n",
       "\n",
       "    .dataframe thead th {\n",
       "        text-align: right;\n",
       "    }\n",
       "</style>\n",
       "<table border=\"1\" class=\"dataframe\">\n",
       "  <thead>\n",
       "    <tr style=\"text-align: right;\">\n",
       "      <th></th>\n",
       "      <th>Animal</th>\n",
       "      <th>Number_legs</th>\n",
       "      <th>default rank</th>\n",
       "      <th>max_rank</th>\n",
       "      <th>NA_bottom</th>\n",
       "      <th>pct_rank</th>\n",
       "    </tr>\n",
       "  </thead>\n",
       "  <tbody>\n",
       "    <tr>\n",
       "      <th>0</th>\n",
       "      <td>cat</td>\n",
       "      <td>4.0</td>\n",
       "      <td>2.5</td>\n",
       "      <td>3.0</td>\n",
       "      <td>2.5</td>\n",
       "      <td>0.625</td>\n",
       "    </tr>\n",
       "    <tr>\n",
       "      <th>1</th>\n",
       "      <td>penguin</td>\n",
       "      <td>2.0</td>\n",
       "      <td>1.0</td>\n",
       "      <td>1.0</td>\n",
       "      <td>1.0</td>\n",
       "      <td>0.250</td>\n",
       "    </tr>\n",
       "    <tr>\n",
       "      <th>2</th>\n",
       "      <td>dog</td>\n",
       "      <td>4.0</td>\n",
       "      <td>2.5</td>\n",
       "      <td>3.0</td>\n",
       "      <td>2.5</td>\n",
       "      <td>0.625</td>\n",
       "    </tr>\n",
       "    <tr>\n",
       "      <th>3</th>\n",
       "      <td>spider</td>\n",
       "      <td>8.0</td>\n",
       "      <td>4.0</td>\n",
       "      <td>4.0</td>\n",
       "      <td>4.0</td>\n",
       "      <td>1.000</td>\n",
       "    </tr>\n",
       "    <tr>\n",
       "      <th>4</th>\n",
       "      <td>snake</td>\n",
       "      <td>NaN</td>\n",
       "      <td>NaN</td>\n",
       "      <td>NaN</td>\n",
       "      <td>5.0</td>\n",
       "      <td>NaN</td>\n",
       "    </tr>\n",
       "  </tbody>\n",
       "</table>\n",
       "</div>"
      ],
      "text/plain": [
       "    Animal  Number_legs  default rank  max_rank  NA_bottom  pct_rank\n",
       "0      cat          4.0           2.5       3.0        2.5     0.625\n",
       "1  penguin          2.0           1.0       1.0        1.0     0.250\n",
       "2      dog          4.0           2.5       3.0        2.5     0.625\n",
       "3   spider          8.0           4.0       4.0        4.0     1.000\n",
       "4    snake          NaN           NaN       NaN        5.0       NaN"
      ]
     },
     "execution_count": 117,
     "metadata": {},
     "output_type": "execute_result"
    }
   ],
   "source": [
    "df['max_rank']=df['Number_legs'].rank(method='max')\n",
    "df"
   ]
  },
  {
   "cell_type": "code",
   "execution_count": 118,
   "id": "ab6cf6da",
   "metadata": {},
   "outputs": [
    {
     "data": {
      "text/html": [
       "<div>\n",
       "<style scoped>\n",
       "    .dataframe tbody tr th:only-of-type {\n",
       "        vertical-align: middle;\n",
       "    }\n",
       "\n",
       "    .dataframe tbody tr th {\n",
       "        vertical-align: top;\n",
       "    }\n",
       "\n",
       "    .dataframe thead th {\n",
       "        text-align: right;\n",
       "    }\n",
       "</style>\n",
       "<table border=\"1\" class=\"dataframe\">\n",
       "  <thead>\n",
       "    <tr style=\"text-align: right;\">\n",
       "      <th></th>\n",
       "      <th>Animal</th>\n",
       "      <th>Number_legs</th>\n",
       "      <th>default rank</th>\n",
       "      <th>max_rank</th>\n",
       "      <th>NA_bottom</th>\n",
       "      <th>pct_rank</th>\n",
       "    </tr>\n",
       "  </thead>\n",
       "  <tbody>\n",
       "    <tr>\n",
       "      <th>0</th>\n",
       "      <td>cat</td>\n",
       "      <td>4.0</td>\n",
       "      <td>2.5</td>\n",
       "      <td>3.0</td>\n",
       "      <td>2.5</td>\n",
       "      <td>0.625</td>\n",
       "    </tr>\n",
       "    <tr>\n",
       "      <th>1</th>\n",
       "      <td>penguin</td>\n",
       "      <td>2.0</td>\n",
       "      <td>1.0</td>\n",
       "      <td>1.0</td>\n",
       "      <td>1.0</td>\n",
       "      <td>0.250</td>\n",
       "    </tr>\n",
       "    <tr>\n",
       "      <th>2</th>\n",
       "      <td>dog</td>\n",
       "      <td>4.0</td>\n",
       "      <td>2.5</td>\n",
       "      <td>3.0</td>\n",
       "      <td>2.5</td>\n",
       "      <td>0.625</td>\n",
       "    </tr>\n",
       "    <tr>\n",
       "      <th>3</th>\n",
       "      <td>spider</td>\n",
       "      <td>8.0</td>\n",
       "      <td>4.0</td>\n",
       "      <td>4.0</td>\n",
       "      <td>4.0</td>\n",
       "      <td>1.000</td>\n",
       "    </tr>\n",
       "    <tr>\n",
       "      <th>4</th>\n",
       "      <td>snake</td>\n",
       "      <td>NaN</td>\n",
       "      <td>NaN</td>\n",
       "      <td>NaN</td>\n",
       "      <td>5.0</td>\n",
       "      <td>NaN</td>\n",
       "    </tr>\n",
       "  </tbody>\n",
       "</table>\n",
       "</div>"
      ],
      "text/plain": [
       "    Animal  Number_legs  default rank  max_rank  NA_bottom  pct_rank\n",
       "0      cat          4.0           2.5       3.0        2.5     0.625\n",
       "1  penguin          2.0           1.0       1.0        1.0     0.250\n",
       "2      dog          4.0           2.5       3.0        2.5     0.625\n",
       "3   spider          8.0           4.0       4.0        4.0     1.000\n",
       "4    snake          NaN           NaN       NaN        5.0       NaN"
      ]
     },
     "execution_count": 118,
     "metadata": {},
     "output_type": "execute_result"
    }
   ],
   "source": [
    "# Rank the 'Number_legs' column, placing NaNs at the bottom\n",
    "df['NA_bottom'] = df['Number_legs'].rank(na_option='bottom')\n",
    "df"
   ]
  },
  {
   "cell_type": "code",
   "execution_count": 119,
   "id": "f2eacb09",
   "metadata": {},
   "outputs": [
    {
     "data": {
      "text/html": [
       "<div>\n",
       "<style scoped>\n",
       "    .dataframe tbody tr th:only-of-type {\n",
       "        vertical-align: middle;\n",
       "    }\n",
       "\n",
       "    .dataframe tbody tr th {\n",
       "        vertical-align: top;\n",
       "    }\n",
       "\n",
       "    .dataframe thead th {\n",
       "        text-align: right;\n",
       "    }\n",
       "</style>\n",
       "<table border=\"1\" class=\"dataframe\">\n",
       "  <thead>\n",
       "    <tr style=\"text-align: right;\">\n",
       "      <th></th>\n",
       "      <th>Animal</th>\n",
       "      <th>Number_legs</th>\n",
       "      <th>default rank</th>\n",
       "      <th>max_rank</th>\n",
       "      <th>NA_bottom</th>\n",
       "      <th>pct_rank</th>\n",
       "    </tr>\n",
       "  </thead>\n",
       "  <tbody>\n",
       "    <tr>\n",
       "      <th>0</th>\n",
       "      <td>cat</td>\n",
       "      <td>4.0</td>\n",
       "      <td>2.5</td>\n",
       "      <td>3.0</td>\n",
       "      <td>2.5</td>\n",
       "      <td>0.625</td>\n",
       "    </tr>\n",
       "    <tr>\n",
       "      <th>1</th>\n",
       "      <td>penguin</td>\n",
       "      <td>2.0</td>\n",
       "      <td>1.0</td>\n",
       "      <td>1.0</td>\n",
       "      <td>1.0</td>\n",
       "      <td>0.250</td>\n",
       "    </tr>\n",
       "    <tr>\n",
       "      <th>2</th>\n",
       "      <td>dog</td>\n",
       "      <td>4.0</td>\n",
       "      <td>2.5</td>\n",
       "      <td>3.0</td>\n",
       "      <td>2.5</td>\n",
       "      <td>0.625</td>\n",
       "    </tr>\n",
       "    <tr>\n",
       "      <th>3</th>\n",
       "      <td>spider</td>\n",
       "      <td>8.0</td>\n",
       "      <td>4.0</td>\n",
       "      <td>4.0</td>\n",
       "      <td>4.0</td>\n",
       "      <td>1.000</td>\n",
       "    </tr>\n",
       "    <tr>\n",
       "      <th>4</th>\n",
       "      <td>snake</td>\n",
       "      <td>NaN</td>\n",
       "      <td>NaN</td>\n",
       "      <td>NaN</td>\n",
       "      <td>5.0</td>\n",
       "      <td>NaN</td>\n",
       "    </tr>\n",
       "  </tbody>\n",
       "</table>\n",
       "</div>"
      ],
      "text/plain": [
       "    Animal  Number_legs  default rank  max_rank  NA_bottom  pct_rank\n",
       "0      cat          4.0           2.5       3.0        2.5     0.625\n",
       "1  penguin          2.0           1.0       1.0        1.0     0.250\n",
       "2      dog          4.0           2.5       3.0        2.5     0.625\n",
       "3   spider          8.0           4.0       4.0        4.0     1.000\n",
       "4    snake          NaN           NaN       NaN        5.0       NaN"
      ]
     },
     "execution_count": 119,
     "metadata": {},
     "output_type": "execute_result"
    }
   ],
   "source": [
    "# Calculate the percentage rank of the 'Number_legs' column\n",
    "df['pct_rank'] = df['Number_legs'].rank(pct=True)\n",
    "df"
   ]
  },
  {
   "cell_type": "code",
   "execution_count": 104,
   "id": "b8d4c1df",
   "metadata": {},
   "outputs": [],
   "source": [
    "\n",
    "df[\"Animal\"]= df[\"Number_legs\"].sort_values()\n",
    "\"\"\"\n",
    "Sorts the 'Number_legs' column in the DataFrame and assigns the sorted values to a new column 'Animal'.\n",
    "\n",
    "Parameters:\n",
    "df (pandas.DataFrame): The DataFrame containing the 'Number_legs' column to be sorted.\n",
    "\n",
    "Returns:\n",
    "None: The function modifies the DataFrame in place by adding a new column 'Animal' with sorted values from 'Number_legs'.\n",
    "\n",
    "Note:\n",
    "- The original 'Number_legs' column remains unchanged.\n",
    "- The sorting is done in ascending order by default.\n",
    "\n",
    "Example:\n",
    ">>> df = pd.DataFrame({'Number_legs': [4, 2, 8, 6]})\n",
    ">>> df[\"Animal\"] = df[\"Number_legs\"].sort_values()\n",
    ">>> print(df)\n",
    "    Number_legs  Animal\n",
    "0            4       2\n",
    "1            2       4\n",
    "2            8       6\n",
    "3            6       8\n",
    "\"\"\""
   ]
  },
  {
   "cell_type": "code",
   "execution_count": 120,
   "id": "8c7992c1",
   "metadata": {},
   "outputs": [
    {
     "data": {
      "text/html": [
       "<div>\n",
       "<style scoped>\n",
       "    .dataframe tbody tr th:only-of-type {\n",
       "        vertical-align: middle;\n",
       "    }\n",
       "\n",
       "    .dataframe tbody tr th {\n",
       "        vertical-align: top;\n",
       "    }\n",
       "\n",
       "    .dataframe thead th {\n",
       "        text-align: right;\n",
       "    }\n",
       "</style>\n",
       "<table border=\"1\" class=\"dataframe\">\n",
       "  <thead>\n",
       "    <tr style=\"text-align: right;\">\n",
       "      <th></th>\n",
       "      <th>Animal</th>\n",
       "      <th>Number_legs</th>\n",
       "      <th>default rank</th>\n",
       "      <th>max_rank</th>\n",
       "      <th>NA_bottom</th>\n",
       "      <th>pct_rank</th>\n",
       "    </tr>\n",
       "  </thead>\n",
       "  <tbody>\n",
       "    <tr>\n",
       "      <th>0</th>\n",
       "      <td>cat</td>\n",
       "      <td>4.0</td>\n",
       "      <td>2.5</td>\n",
       "      <td>3.0</td>\n",
       "      <td>2.5</td>\n",
       "      <td>0.625</td>\n",
       "    </tr>\n",
       "    <tr>\n",
       "      <th>1</th>\n",
       "      <td>penguin</td>\n",
       "      <td>2.0</td>\n",
       "      <td>1.0</td>\n",
       "      <td>1.0</td>\n",
       "      <td>1.0</td>\n",
       "      <td>0.250</td>\n",
       "    </tr>\n",
       "    <tr>\n",
       "      <th>2</th>\n",
       "      <td>dog</td>\n",
       "      <td>4.0</td>\n",
       "      <td>2.5</td>\n",
       "      <td>3.0</td>\n",
       "      <td>2.5</td>\n",
       "      <td>0.625</td>\n",
       "    </tr>\n",
       "    <tr>\n",
       "      <th>3</th>\n",
       "      <td>spider</td>\n",
       "      <td>8.0</td>\n",
       "      <td>4.0</td>\n",
       "      <td>4.0</td>\n",
       "      <td>4.0</td>\n",
       "      <td>1.000</td>\n",
       "    </tr>\n",
       "    <tr>\n",
       "      <th>4</th>\n",
       "      <td>snake</td>\n",
       "      <td>NaN</td>\n",
       "      <td>NaN</td>\n",
       "      <td>NaN</td>\n",
       "      <td>5.0</td>\n",
       "      <td>NaN</td>\n",
       "    </tr>\n",
       "  </tbody>\n",
       "</table>\n",
       "</div>"
      ],
      "text/plain": [
       "    Animal  Number_legs  default rank  max_rank  NA_bottom  pct_rank\n",
       "0      cat          4.0           2.5       3.0        2.5     0.625\n",
       "1  penguin          2.0           1.0       1.0        1.0     0.250\n",
       "2      dog          4.0           2.5       3.0        2.5     0.625\n",
       "3   spider          8.0           4.0       4.0        4.0     1.000\n",
       "4    snake          NaN           NaN       NaN        5.0       NaN"
      ]
     },
     "execution_count": 120,
     "metadata": {},
     "output_type": "execute_result"
    }
   ],
   "source": [
    "df"
   ]
  },
  {
   "cell_type": "code",
   "execution_count": 121,
   "id": "8fb142ac",
   "metadata": {},
   "outputs": [
    {
     "data": {
      "text/plain": [
       "dict"
      ]
     },
     "execution_count": 121,
     "metadata": {},
     "output_type": "execute_result"
    }
   ],
   "source": [
    "d1 = {1,2,34}\n",
    "d={}\n",
    "type(d)"
   ]
  },
  {
   "cell_type": "code",
   "execution_count": 122,
   "id": "b1b0f876",
   "metadata": {},
   "outputs": [
    {
     "name": "stdout",
     "output_type": "stream",
     "text": [
      "{'a': 1, 'b': 3, 'c': 4}\n",
      "{0: 0, 1: 1, 2: 4, 3: 9, 4: 16, 5: 25}\n",
      "dict_keys(['a', 'b', 'c'])\n",
      "dict_values([1, 3, 4])\n",
      "Key: a, Value: 1\n",
      "Key: b, Value: 3\n",
      "Key: c, Value: 4\n",
      "1\n",
      "1\n",
      "{'b': 3, 'c': 4}\n",
      "True\n",
      "{'a': 0, 'b': 0, 'c': 0}\n"
     ]
    }
   ],
   "source": [
    "# Example: Merging two dictionaries using the `update` method\n",
    "d22 = {'a': 1, 'b': 2}\n",
    "d23 = {'b': 3, 'c': 4}\n",
    "d22.update(d23)\n",
    "print(d22)  # Output: {'a': 1, 'b': 3, 'c': 4}\n",
    "\n",
    "# Example: Using dictionary comprehension to create a dictionary\n",
    "squares = {x: x*x for x in range(6)}\n",
    "print(squares)  # Output: {0: 0, 1: 1, 2: 4, 3: 9, 4: 16, 5: 25}\n",
    "\n",
    "# Example: Accessing keys and values in a dictionary\n",
    "keys = d22.keys()\n",
    "values = d22.values()\n",
    "print(keys)    # Output: dict_keys(['a', 'b', 'c'])\n",
    "print(values)  # Output: dict_values([1, 3, 4])\n",
    "\n",
    "# Example: Iterating over a dictionary\n",
    "for key, value in d22.items():\n",
    "    print(f\"Key: {key}, Value: {value}\")\n",
    "# Output:\n",
    "# Key: a, Value: 1\n",
    "# Key: b, Value: 3\n",
    "# Key: c, Value: 4\n",
    "\n",
    "# Example: Using the `get` method to access values\n",
    "value = d22.get('a', 'default_value')\n",
    "print(value)  # Output: 1\n",
    "\n",
    "# Example: Removing a key-value pair using `pop`\n",
    "removed_value = d22.pop('a')\n",
    "print(removed_value)  # Output: 1\n",
    "print(d22)            # Output: {'b': 3, 'c': 4}\n",
    "\n",
    "# Example: Checking if a key exists in a dictionary\n",
    "key_exists = 'b' in d22\n",
    "print(key_exists)  # Output: True\n",
    "\n",
    "# Example: Creating a dictionary with default values using `fromkeys`\n",
    "keys = ['a', 'b', 'c']\n",
    "default_dict = dict.fromkeys(keys, 0)\n",
    "print(default_dict)  # Output: {'a': 0, 'b': 0, 'c': 0}"
   ]
  },
  {
   "cell_type": "code",
   "execution_count": 126,
   "id": "2ee67498",
   "metadata": {},
   "outputs": [
    {
     "name": "stdout",
     "output_type": "stream",
     "text": [
      "{'a': 1, 'b': 2, 'c': 3}\n",
      "1\n",
      "{'a': 1, 'b': 2, 'c': 3, 'd': 4}\n",
      "{'a': 10, 'b': 2, 'c': 3, 'd': 4}\n",
      "{'a': 10, 'c': 3, 'd': 4}\n",
      "3\n",
      "{'a': 10, 'd': 4}\n",
      "True\n",
      "False\n",
      "10\n",
      "default_value\n",
      "dict_keys(['a', 'd'])\n",
      "dict_values([10, 4])\n",
      "dict_items([('a', 10), ('d', 4)])\n",
      "a\n",
      "d\n",
      "10\n",
      "4\n",
      "Key: a, Value: 10\n",
      "Key: d, Value: 4\n",
      "{'x': 0, 'y': 0, 'z': 0}\n",
      "{'a': 10, 'd': 4, 'e': 5, 'f': 6}\n",
      "{'a': 10, 'd': 4, 'e': 5, 'f': 6}\n",
      "{}\n",
      "{0: 0, 1: 1, 2: 4, 3: 9, 4: 16}\n",
      "{'a': 2, 'b': 1, 'c': 3}\n",
      "{'b': 1, 'a': 2, 'c': 3}\n",
      "3\n",
      "{'b': 1, 'a': 2, 'c': 3, 'd': 4}\n",
      "('d', 4)\n",
      "{'b': 1, 'a': 2, 'c': 3}\n",
      "{'outer': {'inner': 42}}\n",
      "42\n"
     ]
    }
   ],
   "source": [
    "# Example 1: Creating a dictionary\n",
    "d1 = {'a': 1, 'b': 2, 'c': 3}\n",
    "print(d1)\n",
    "\n",
    "# Example 2: Accessing a value by key\n",
    "print(d1['a'])\n",
    "\n",
    "# Example 3: Adding a new key-value pair\n",
    "d1['d'] = 4\n",
    "print(d1)\n",
    "\n",
    "# Example 4: Updating an existing key-value pair\n",
    "d1['a'] = 10\n",
    "print(d1)\n",
    "\n",
    "# Example 5: Removing a key-value pair using del\n",
    "del d1['b']\n",
    "print(d1)\n",
    "\n",
    "# Example 6: Removing a key-value pair using pop\n",
    "value = d1.pop('c')\n",
    "print(value)\n",
    "print(d1)\n",
    "\n",
    "# Example 7: Checking if a key exists in the dictionary\n",
    "print('a' in d1)\n",
    "print('b' in d1)\n",
    "\n",
    "# Example 8: Getting the value of a key using get\n",
    "print(d1.get('a'))\n",
    "print(d1.get('b', 'default_value'))\n",
    "\n",
    "# Example 9: Getting all keys in the dictionary\n",
    "print(d1.keys())\n",
    "\n",
    "# Example 10: Getting all values in the dictionary\n",
    "print(d1.values())\n",
    "\n",
    "# Example 11: Getting all key-value pairs in the dictionary\n",
    "print(d1.items())\n",
    "\n",
    "# Example 12: Iterating over keys in the dictionary\n",
    "for key in d1.keys():\n",
    "    print(key)\n",
    "\n",
    "# Example 13: Iterating over values in the dictionary\n",
    "for value in d1.values():\n",
    "    print(value)\n",
    "\n",
    "# Example 14: Iterating over key-value pairs in the dictionary\n",
    "for key, value in d1.items():\n",
    "    print(f\"Key: {key}, Value: {value}\")\n",
    "\n",
    "# Example 15: Creating a dictionary with default values using fromkeys\n",
    "keys = ['x', 'y', 'z']\n",
    "d2 = dict.fromkeys(keys, 0)\n",
    "print(d2)\n",
    "\n",
    "# Example 16: Merging two dictionaries using update\n",
    "d3 = {'e': 5, 'f': 6}\n",
    "d1.update(d3)\n",
    "print(d1)\n",
    "\n",
    "# Example 17: Copying a dictionary using copy\n",
    "d4 = d1.copy()\n",
    "print(d4)\n",
    "\n",
    "# Example 18: Clearing all key-value pairs in the dictionary\n",
    "d4.clear()\n",
    "print(d4)\n",
    "\n",
    "# Example 19: Creating a dictionary using dictionary comprehension\n",
    "d5 = {x: x**2 for x in range(5)}\n",
    "print(d5)\n",
    "\n",
    "# Example 20: Sorting a dictionary by keys\n",
    "d6 = {'b': 1, 'a': 2, 'c': 3}\n",
    "sorted_d6 = dict(sorted(d6.items()))\n",
    "print(sorted_d6)\n",
    "\n",
    "# Example 21: Sorting a dictionary by values\n",
    "sorted_d6_by_value = dict(sorted(d6.items(), key=lambda item: item[1]))\n",
    "print(sorted_d6_by_value)\n",
    "\n",
    "# Example 22: Getting the length of a dictionary\n",
    "print(len(d6))\n",
    "\n",
    "# Example 23: Using setdefault to get a value and set it if it doesn't exist\n",
    "d6.setdefault('d', 4)\n",
    "print(d6)\n",
    "\n",
    "# Example 24: Using popitem to remove and return the last key-value pair\n",
    "last_item = d6.popitem()\n",
    "print(last_item)\n",
    "print(d6)\n",
    "\n",
    "# Example 25: Creating a nested dictionary\n",
    "nested_dict = {'outer': {'inner': 42}}\n",
    "print(nested_dict)\n",
    "print(nested_dict['outer']['inner'])"
   ]
  },
  {
   "cell_type": "code",
   "execution_count": null,
   "id": "f47dab41",
   "metadata": {},
   "outputs": [],
   "source": [
    "# Example 26: Creating a dictionary with mixed data types\n",
    "mixed_dict = {'integer': 1, 'float': 2.5, 'string': 'hello', 'list': [1, 2, 3]}\n",
    "print(mixed_dict)\n",
    "\n",
    "# Example 27: Creating a dictionary with a tuple as a key\n",
    "tuple_key_dict = {(1, 2): 'value1', (3, 4): 'value2'}\n",
    "print(tuple_key_dict)\n",
    "\n",
    "# Example 28: Creating a dictionary with a frozenset as a key\n",
    "frozenset_key_dict = {frozenset([1, 2, 3]): 'value1', frozenset([4, 5, 6]): 'value2'}\n",
    "print(frozenset_key_dict)\n",
    "\n",
    "# Example 29: Creating a dictionary with a boolean as a key\n",
    "boolean_key_dict = {True: 'yes', False: 'no'}\n",
    "print(boolean_key_dict)\n",
    "\n",
    "# Example 30: Creating a dictionary with None as a key\n",
    "none_key_dict = {None: 'nothing', 'key': 'value'}\n",
    "print(none_key_dict)\n",
    "\n",
    "# Example 31: Creating a dictionary with a function as a key\n",
    "def my_func():\n",
    "    return 'function_key'\n",
    "\n",
    "function_key_dict = {my_func: 'value'}\n",
    "print(function_key_dict)\n",
    "\n",
    "# Example 32: Creating a dictionary with a class as a key\n",
    "class MyClass:\n",
    "    pass\n",
    "\n",
    "class_key_dict = {MyClass: 'value'}\n",
    "print(class_key_dict)\n",
    "\n",
    "# Example 33: Creating a dictionary with a lambda function as a key\n",
    "lambda_key_dict = {lambda x: x + 1: 'value'}\n",
    "print(lambda_key_dict)\n",
    "\n",
    "# Example 34: Creating a dictionary with a nested list as a value\n",
    "nested_list_dict = {'key': [[1, 2], [3, 4]]}\n",
    "print(nested_list_dict)\n",
    "\n",
    "# Example 35: Creating a dictionary with a nested dictionary as a value\n",
    "nested_dict_value = {'outer_key': {'inner_key': 'inner_value'}}\n",
    "print(nested_dict_value)\n",
    "\n",
    "# Example 36: Creating a dictionary with a set as a value\n",
    "set_value_dict = {'key': {1, 2, 3}}\n",
    "print(set_value_dict)\n",
    "\n",
    "# Example 37: Creating a dictionary with a frozenset as a value\n",
    "frozenset_value_dict = {'key': frozenset([1, 2, 3])}\n",
    "print(frozenset_value_dict)\n",
    "\n",
    "# Example 38: Creating a dictionary with a tuple as a value\n",
    "tuple_value_dict = {'key': (1, 2, 3)}\n",
    "print(tuple_value_dict)\n",
    "\n",
    "# Example 39: Creating a dictionary with a boolean as a value\n",
    "boolean_value_dict = {'key': True}\n",
    "print(boolean_value_dict)\n",
    "\n",
    "# Example 40: Creating a dictionary with None as a value\n",
    "none_value_dict = {'key': None}\n",
    "print(none_value_dict)\n",
    "\n",
    "# Example 41: Creating a dictionary with a function as a value\n",
    "def my_func_value():\n",
    "    return 'function_value'\n",
    "\n",
    "function_value_dict = {'key': my_func_value}\n",
    "print(function_value_dict)\n",
    "\n",
    "# Example 42: Creating a dictionary with a class as a value\n",
    "class MyClassValue:\n",
    "    pass\n",
    "\n",
    "class_value_dict = {'key': MyClassValue}\n",
    "print(class_value_dict)\n",
    "\n",
    "# Example 43: Creating a dictionary with a lambda function as a value\n",
    "lambda_value_dict = {'key': lambda x: x + 1}\n",
    "print(lambda_value_dict)\n",
    "\n",
    "# Example 44: Creating a dictionary with a nested dictionary as a key\n",
    "nested_dict_key = {frozenset({'outer_key': 'inner_value'}): 'value'}\n",
    "print(nested_dict_key)\n",
    "\n",
    "# Example 45: Creating a dictionary with a list of dictionaries as a value\n",
    "list_of_dicts_value = {'key': [{'a': 1}, {'b': 2}]}\n",
    "print(list_of_dicts_value)\n",
    "\n",
    "# Example 46: Creating a dictionary with a dictionary of lists as a value\n",
    "dict_of_lists_value = {'key': {'a': [1, 2], 'b': [3, 4]}}\n",
    "print(dict_of_lists_value)\n",
    "\n",
    "# Example 47: Creating a dictionary with a dictionary of dictionaries as a value\n",
    "dict_of_dicts_value = {'key': {'a': {'x': 1}, 'b': {'y': 2}}}\n",
    "print(dict_of_dicts_value)\n",
    "\n",
    "# Example 48: Creating a dictionary with a list of tuples as a value\n",
    "list_of_tuples_value = {'key': [(1, 2), (3, 4)]}\n",
    "print(list_of_tuples_value)\n",
    "\n",
    "# Example 49: Creating a dictionary with a tuple of lists as a value\n",
    "tuple_of_lists_value = {'key': ([1, 2], [3, 4])}\n",
    "print(tuple_of_lists_value)\n",
    "\n",
    "# Example 50: Creating a dictionary with a set of tuples as a value\n",
    "set_of_tuples_value = {'key': {(1, 2), (3, 4)}}\n",
    "print(set_of_tuples_value)"
   ]
  },
  {
   "cell_type": "code",
   "execution_count": 127,
   "id": "f6bdb6b9",
   "metadata": {},
   "outputs": [
    {
     "name": "stdout",
     "output_type": "stream",
     "text": [
      "1\n",
      "10\n",
      "dict_keys(['a', 'c', 'd'])\n",
      "dict_values([10, 3, 4])\n",
      "dict_items([('a', 10), ('c', 3), ('d', 4)])\n",
      "10\n",
      "('f', 6)\n",
      "{'x': 0, 'y': 0, 'z': 0}\n",
      "{0: 0, 1: 1, 2: 4, 3: 9, 4: 16, 5: 25}\n",
      "42\n",
      "{'a': 1, 'b': 3, 'c': 4}\n",
      "{'a': 2, 'b': 1, 'c': 3}\n",
      "{'b': 1, 'a': 2, 'c': 3}\n",
      "True\n",
      "default_value\n",
      "{'a': 3, 'b': 2, 'c': 1}\n",
      "{'A': ['Alice', 'Charlie'], 'B': ['Bob']}\n"
     ]
    }
   ],
   "source": [
    "# Basic Operations\n",
    "d = {'a': 1, 'b': 2, 'c': 3}\n",
    "print(d['a'])  # Access\n",
    "d['d'] = 4     # Add\n",
    "d['a'] = 10    # Update\n",
    "del d['b']     # Delete\n",
    "\n",
    "# Dictionary Methods\n",
    "print(d.get('a'))          # Get value for key 'a'\n",
    "print(d.keys())            # Get all keys\n",
    "print(d.values())          # Get all values\n",
    "print(d.items())           # Get all key-value pairs\n",
    "d.update({'e': 5, 'f': 6}) # Merge another dictionary\n",
    "print(d.pop('a'))          # Remove and return value for key 'a'\n",
    "print(d.popitem())         # Remove and return the last key-value pair\n",
    "d.clear()                  # Clear all items\n",
    "d_copy = d.copy()          # Create a shallow copy\n",
    "d_fromkeys = dict.fromkeys(['x', 'y', 'z'], 0)  # Create a dictionary with default values\n",
    "print(d_fromkeys)\n",
    "\n",
    "# Dictionary Comprehensions\n",
    "squares = {x: x*x for x in range(6)}\n",
    "print(squares)\n",
    "\n",
    "# Iterating Over Dictionaries\n",
    "for key in d.keys():\n",
    "    print(key)\n",
    "for value in d.values():\n",
    "    print(value)\n",
    "for key, value in d.items():\n",
    "    print(f\"Key: {key}, Value: {value}\")\n",
    "\n",
    "# Nested Dictionaries\n",
    "nested_dict = {'outer': {'inner': 42}}\n",
    "print(nested_dict['outer']['inner'])\n",
    "\n",
    "# Dictionary Merging\n",
    "d1 = {'a': 1, 'b': 2}\n",
    "d2 = {'b': 3, 'c': 4}\n",
    "d1.update(d2)\n",
    "print(d1)\n",
    "\n",
    "# Dictionary Sorting\n",
    "d = {'b': 1, 'a': 2, 'c': 3}\n",
    "sorted_by_keys = dict(sorted(d.items()))\n",
    "sorted_by_values = dict(sorted(d.items(), key=lambda item: item[1]))\n",
    "print(sorted_by_keys)\n",
    "print(sorted_by_values)\n",
    "\n",
    "# Dictionary Keys and Values\n",
    "print('a' in d)  # Check if key 'a' exists\n",
    "print(d.get('d', 'default_value'))  # Get value for key 'd' with default\n",
    "\n",
    "# Dictionary Performance\n",
    "# Lookup, insertion, and deletion are O(1) on average\n",
    "\n",
    "# Advanced Usage\n",
    "# Counting frequency of elements in a list\n",
    "elements = ['a', 'b', 'a', 'c', 'b', 'a']\n",
    "frequency = {}\n",
    "for element in elements:\n",
    "    if element in frequency:\n",
    "        frequency[element] += 1\n",
    "    else:\n",
    "        frequency[element] = 1\n",
    "print(frequency)\n",
    "\n",
    "# Grouping elements by a certain criterion\n",
    "students = [\n",
    "    {'name': 'Alice', 'grade': 'A'},\n",
    "    {'name': 'Bob', 'grade': 'B'},\n",
    "    {'name': 'Charlie', 'grade': 'A'},\n",
    "]\n",
    "grouped_by_grade = {}\n",
    "for student in students:\n",
    "    grade = student['grade']\n",
    "    if grade not in grouped_by_grade:\n",
    "        grouped_by_grade[grade] = []\n",
    "    grouped_by_grade[grade].append(student['name'])\n",
    "print(grouped_by_grade)"
   ]
  },
  {
   "cell_type": "code",
   "execution_count": 128,
   "id": "578a56a7",
   "metadata": {},
   "outputs": [
    {
     "name": "stdout",
     "output_type": "stream",
     "text": [
      "{'a': 1, 'b': 3, 'c': 4}\n",
      "Key: a, Value: 1\n",
      "Key: b, Value: 2\n",
      "Key: c, Value: 3\n",
      "defaultdict(<class 'int'>, {'a': 1})\n",
      "2\n",
      "{'a': 1, 'c': 3}\n",
      "True\n",
      "Max key: c, Min key: a\n",
      "Max value: 3, Min value: 1\n",
      "{1: 'a', 2: 'b', 3: 'c'}\n",
      "{'a': 3, 'b': 2, 'c': 1}\n"
     ]
    }
   ],
   "source": [
    "from collections import defaultdict\n",
    "\n",
    "# Example 51: How to merge two dictionaries in Python 3.9+?\n",
    "d1 = {'a': 1, 'b': 2}\n",
    "d2 = {'b': 3, 'c': 4}\n",
    "merged_dict = d1 | d2\n",
    "print(merged_dict)  # Output: {'a': 1, 'b': 3, 'c': 4}\n",
    "\n",
    "# Example 52: How to iterate over dictionary keys and values simultaneously?\n",
    "d = {'a': 1, 'b': 2, 'c': 3}\n",
    "for key, value in d.items():\n",
    "    print(f\"Key: {key}, Value: {value}\")\n",
    "\n",
    "# Example 53: How to create a dictionary with default values using defaultdict?\n",
    "dd = defaultdict(int)\n",
    "dd['a'] += 1\n",
    "print(dd)  # Output: defaultdict(<class 'int'>, {'a': 1})\n",
    "\n",
    "# Example 54: How to remove a key from a dictionary safely?\n",
    "d = {'a': 1, 'b': 2, 'c': 3}\n",
    "value = d.pop('b', None)\n",
    "print(value)  # Output: 2\n",
    "print(d)      # Output: {'a': 1, 'c': 3}\n",
    "\n",
    "# Example 55: How to check if a dictionary is empty?\n",
    "d = {}\n",
    "is_empty = not bool(d)\n",
    "print(is_empty)  # Output: True\n",
    "\n",
    "# Example 56: How to get the maximum and minimum key in a dictionary?\n",
    "d = {'a': 1, 'b': 2, 'c': 3}\n",
    "max_key = max(d)\n",
    "min_key = min(d)\n",
    "print(f\"Max key: {max_key}, Min key: {min_key}\")  # Output: Max key: c, Min key: a\n",
    "\n",
    "# Example 57: How to get the maximum and minimum value in a dictionary?\n",
    "d = {'a': 1, 'b': 2, 'c': 3}\n",
    "max_value = max(d.values())\n",
    "min_value = min(d.values())\n",
    "print(f\"Max value: {max_value}, Min value: {min_value}\")  # Output: Max value: 3, Min value: 1"
   ]
  },
  {
   "cell_type": "code",
   "execution_count": 140,
   "id": "9c3ca457",
   "metadata": {},
   "outputs": [
    {
     "name": "stdout",
     "output_type": "stream",
     "text": [
      "{1: 'a', 2: 'b', 3: 'c'}\n"
     ]
    }
   ],
   "source": [
    "# Example 58: How to invert a dictionary (swap keys and values)?\n",
    "d = {'a': 1, 'b': 2, 'c': 3}\n",
    "inverted_dict = {v: k for k, v in d.items()}\n",
    "print(inverted_dict)  # Output: {1: 'a', 2: 'b', 3: 'c'}"
   ]
  },
  {
   "cell_type": "code",
   "execution_count": 139,
   "id": "2803c4f9",
   "metadata": {},
   "outputs": [
    {
     "name": "stdout",
     "output_type": "stream",
     "text": [
      "{'a': 2, 'b': 2, 'c': 1}\n"
     ]
    }
   ],
   "source": [
    "# Example 59: How to count the frequency of elements in a list using a dictionary?\n",
    "elements = ['a', 'b', 'a', 'c', 'b', 'a']\n",
    "frequency = {}\n",
    "for element in elements:\n",
    "    frequency[element] = frequency.get(key, 0) + 1\n",
    "print(frequency)  # Output: {'a': 3, 'b': 2, 'c': 1}\n"
   ]
  },
  {
   "cell_type": "code",
   "execution_count": 129,
   "id": "736e3b7c",
   "metadata": {},
   "outputs": [
    {
     "name": "stdout",
     "output_type": "stream",
     "text": [
      "{'a': 1, 'b': 2, 'c': 3}\n"
     ]
    }
   ],
   "source": [
    "# Example 60: How to merge multiple dictionaries?\n",
    "d1 = {'a': 1}\n",
    "d2 = {'b': 2}\n",
    "d3 = {'c': 3}\n",
    "merged_dict = {**d1, **d2, **d3}\n",
    "print(merged_dict)  # Output: {'a': 1, 'b': 2, 'c': 3}"
   ]
  },
  {
   "cell_type": "code",
   "execution_count": 133,
   "id": "958c24bf",
   "metadata": {},
   "outputs": [
    {
     "data": {
      "text/plain": [
       "{'a': 1, 'b': 2, 'c': 3}"
      ]
     },
     "execution_count": 133,
     "metadata": {},
     "output_type": "execute_result"
    }
   ],
   "source": [
    "d1.update(d2)\n",
    "d2.update(d3)\n",
    "d1"
   ]
  },
  {
   "cell_type": "code",
   "execution_count": null,
   "id": "5e17a7ec",
   "metadata": {},
   "outputs": [],
   "source": [
    "import math\n",
    "import math\n",
    "import math\n",
    "import unicodedata\n",
    "\n",
    "# Example 61: How to create a dictionary from two lists?\n",
    "keys = ['a', 'b', 'c']\n",
    "values = [1, 2, 3]\n",
    "dict_from_lists = dict(zip(keys, values))\n",
    "print(dict_from_lists)  # Output: {'a': 1, 'b': 2, 'c': 3}\n",
    "\n",
    "# Example 62: How to filter a dictionary based on its values?\n",
    "d = {'a': 1, 'b': 2, 'c': 3}\n",
    "filtered_dict = {k: v for k, v in d.items() if v > 1}\n",
    "print(filtered_dict)  # Output: {'b': 2, 'c': 3}\n",
    "\n",
    "# Example 63: How to merge dictionaries with a common key by summing their values?\n",
    "d1 = {'a': 1, 'b': 2}\n",
    "d2 = {'b': 3, 'c': 4}\n",
    "merged_dict = {k: d1.get(k, 0) + d2.get(k, 0) for k in set(d1) | set(d2)}\n",
    "print(merged_dict)  # Output: {'a': 1, 'b': 5, 'c': 4}\n",
    "\n",
    "# Example 64: How to create a dictionary from a list of tuples?\n",
    "tuples = [('a', 1), ('b', 2), ('c', 3)]\n",
    "dict_from_tuples = dict(tuples)\n",
    "print(dict_from_tuples)  # Output: {'a': 1, 'b': 2, 'c': 3}\n",
    "\n",
    "# Convert dictionary to a list of tuples\n",
    "dict_as_tuples = list(d.items())\n",
    "print(dict_as_tuples)  # Output: [('a', 1), ('b', 2), ('c', 3)]\n",
    "\n",
    "# Example 65: How to create a dictionary with default values using dict.fromkeys()?\n",
    "keys = ['a', 'b', 'c']\n",
    "default_value = 0\n",
    "default_dict = dict.fromkeys(keys, default_value)\n",
    "print(default_dict)  # Output: {'a': 0, 'b': 0, 'c': 0}\n",
    "\n",
    "# Example 66: How to create a dictionary with keys from a list and values from another list?\n",
    "keys = ['a', 'b', 'c']\n",
    "values = [1, 2, 3]\n",
    "dict_from_lists = {k: v for k, v in zip(keys, values)}\n",
    "print(dict_from_lists)  # Output: {'a': 1, 'b': 2, 'c': 3}\n",
    "\n",
    "# Example 67: How to create a dictionary with keys from a list and a constant value?\n",
    "keys = ['a', 'b', 'c']\n",
    "constant_value = 0\n",
    "dict_with_constant_value = {k: constant_value for k in keys}\n",
    "print(dict_with_constant_value)  # Output: {'a': 0, 'b': 0, 'c': 0}\n",
    "\n",
    "# Example 68: How to create a dictionary with keys from a list and values as their lengths?\n",
    "words = ['apple', 'banana', 'cherry']\n",
    "dict_with_lengths = {word: len(word) for word in words}\n",
    "print(dict_with_lengths)  # Output: {'apple': 5, 'banana': 6, 'cherry': 6}\n",
    "\n",
    "# Example 69: How to create a dictionary with keys from a list and values as their squares?\n",
    "numbers = [1, 2, 3, 4, 5]\n",
    "dict_with_squares = {num: num**2 for num in numbers}\n",
    "print(dict_with_squares)  # Output: {1: 1, 2: 4, 3: 9, 4: 16, 5: 25}\n",
    "\n",
    "# Example 70: How to create a dictionary with keys from a list and values as their cubes?\n",
    "numbers = [1, 2, 3, 4, 5]\n",
    "dict_with_cubes = {num: num**3 for num in numbers}\n",
    "print(dict_with_cubes)  # Output: {1: 1, 2: 8, 3: 27, 4: 64, 5: 125}\n",
    "\n",
    "# Example 71: How to create a dictionary with keys from a list and values as their factorials?\n",
    "numbers = [1, 2, 3, 4, 5]\n",
    "dict_with_factorials = {num: math.factorial(num) for num in numbers}\n",
    "print(dict_with_factorials)  # Output: {1: 1, 2: 2, 3: 6, 4: 24, 5: 120}\n",
    "\n",
    "# Example 72: How to create a dictionary with keys from a list and values as their logarithms?\n",
    "numbers = [1, 2, 3, 4, 5]\n",
    "dict_with_logs = {num: math.log(num) for num in numbers}\n",
    "print(dict_with_logs)  # Output: {1: 0.0, 2: 0.6931471805599453, 3: 1.0986122886681098, 4: 1.3862943611198906, 5: 1.6094379124341003}\n",
    "\n",
    "# Example 73: How to create a dictionary with keys from a list and values as their square roots?\n",
    "numbers = [1, 2, 3, 4, 5]\n",
    "dict_with_sqrt = {num: math.sqrt(num) for num in numbers}\n",
    "print(dict_with_sqrt)  # Output: {1: 1.0, 2: 1.4142135623730951, 3: 1.7320508075688772, 4: 2.0, 5: 2.23606797749979}\n",
    "\n",
    "# Example 74: How to create a dictionary with keys from a list and values as their reciprocals?\n",
    "numbers = [1, 2, 3, 4, 5]\n",
    "dict_with_reciprocals = {num: 1/num for num in numbers}\n",
    "print(dict_with_reciprocals)  # Output: {1: 1.0, 2: 0.5, 3: 0.3333333333333333, 4: 0.25, 5: 0.2}\n",
    "\n",
    "# Example 75: How to create a dictionary with keys from a list and values as their binary representations?\n",
    "numbers = [1, 2, 3, 4, 5]\n",
    "dict_with_binaries = {num: bin(num) for num in numbers}\n",
    "print(dict_with_binaries)  # Output: {1: '0b1', 2: '0b10', 3: '0b11', 4: '0b100', 5: '0b101'}\n",
    "\n",
    "# Example 76: How to create a dictionary with keys from a list and values as their hexadecimal representations?\n",
    "numbers = [1, 2, 3, 4, 5]\n",
    "dict_with_hex = {num: hex(num) for num in numbers}\n",
    "print(dict_with_hex)  # Output: {1: '0x1', 2: '0x2', 3: '0x3', 4: '0x4', 5: '0x5'}\n",
    "\n",
    "# Example 77: How to create a dictionary with keys from a list and values as their octal representations?\n",
    "numbers = [1, 2, 3, 4, 5]\n",
    "dict_with_octal = {num: oct(num) for num in numbers}\n",
    "print(dict_with_octal)  # Output: {1: '0o1', 2: '0o2', 3: '0o3', 4: '0o4', 5: '0o5'}\n",
    "\n",
    "# Example 78: How to create a dictionary with keys from a list and values as their ASCII characters?\n",
    "numbers = [65, 66, 67, 68, 69]\n",
    "dict_with_ascii = {num: chr(num) for num in numbers}\n",
    "print(dict_with_ascii)  # Output: {65: 'A', 66: 'B', 67: 'C', 68: 'D', 69: 'E'}\n",
    "\n",
    "# Example 79: How to create a dictionary with keys from a list and values as their Unicode names?\n",
    "characters = ['A', 'B', 'C', 'D', 'E']\n",
    "dict_with_unicode_names = {char: unicodedata.name(char) for char in characters}\n",
    "print(dict_with_unicode_names)  # Output: {'A': 'LATIN CAPITAL LETTER A', 'B': 'LATIN CAPITAL LETTER B', 'C': 'LATIN CAPITAL LETTER C', 'D': 'LATIN CAPITAL LETTER D', 'E': 'LATIN CAPITAL LETTER E'}\n",
    "\n",
    "# Example 80: How to create a dictionary with keys from a list and values as their Unicode codes?\n",
    "characters = ['A', 'B', 'C', 'D', 'E']\n",
    "dict_with_unicode_codes = {char: ord(char) for char in characters}\n",
    "print(dict_with_unicode_codes)  # Output: {'A': 65, 'B': 66, 'C': 67, 'D': 68, 'E': 69}\n",
    "\n",
    "# Example 81: How to create a dictionary with keys from a list and values as their lengths?\n",
    "words = ['apple', 'banana', 'cherry']\n",
    "dict_with_lengths = {word: len(word) for word in words}\n",
    "print(dict_with_lengths)  # Output: {'apple': 5, 'banana': 6, 'cherry': 6}\n",
    "\n",
    "# Example 82: How to create a dictionary with keys from a list and values as their reversed strings?\n",
    "words = ['apple', 'banana', 'cherry']\n",
    "dict_with_reversed = {word: word[::-1] for word in words}\n",
    "print(dict_with_reversed)  # Output: {'apple': 'elppa', 'banana': 'ananab', 'cherry': 'yrrehc'}\n",
    "\n",
    "# Example 83: How to create a dictionary with keys from a list and values as their uppercase strings?\n",
    "words = ['apple', 'banana', 'cherry']\n",
    "dict_with_uppercase = {word: word.upper() for word in words}\n",
    "print(dict_with_uppercase)  # Output: {'apple': 'APPLE', 'banana': 'BANANA', 'cherry': 'CHERRY'}\n",
    "\n",
    "# Example 84: How to create a dictionary with keys from a list and values as their lowercase strings?\n",
    "words = ['APPLE', 'BANANA', 'CHERRY']\n",
    "dict_with_lowercase = {word: word.lower() for word in words}\n",
    "print(dict_with_lowercase)  # Output: {'APPLE': 'apple', 'BANANA': 'banana', 'CHERRY': 'cherry'}\n",
    "\n",
    "# Example 85: How to create a dictionary with keys from a list and values as their title-cased strings?\n",
    "words = ['apple', 'banana', 'cherry']\n",
    "dict_with_titlecase = {word: word.title() for word in words}\n",
    "print(dict_with_titlecase)  # Output: {'apple': 'Apple', 'banana': 'Banana', 'cherry': 'Cherry'}"
   ]
  },
  {
   "cell_type": "code",
   "execution_count": 142,
   "id": "8b3bc728",
   "metadata": {},
   "outputs": [
    {
     "name": "stdout",
     "output_type": "stream",
     "text": [
      "{1: 1, 2: 8, 3: 27, 4: 64, 5: 125}\n"
     ]
    }
   ],
   "source": [
    "list= [1,2,3,4,5]\n",
    "result = {}\n",
    "for num in list:\n",
    "    result[num]=num**3\n",
    "print(result)\n"
   ]
  },
  {
   "cell_type": "code",
   "execution_count": 145,
   "id": "fbe47a42",
   "metadata": {},
   "outputs": [
    {
     "data": {
      "text/plain": [
       "{1: 1, 2: 8, 3: 27, 4: 64, 5: 125}"
      ]
     },
     "execution_count": 145,
     "metadata": {},
     "output_type": "execute_result"
    }
   ],
   "source": [
    "result = {num:num**3 for num in list}\n",
    "result"
   ]
  },
  {
   "cell_type": "code",
   "execution_count": 147,
   "id": "6866c164",
   "metadata": {},
   "outputs": [
    {
     "name": "stdout",
     "output_type": "stream",
     "text": [
      "{1: 2, 2: 3, 3: 2, 4: 2, 5: 3, 6: 4, 45: 1}\n"
     ]
    }
   ],
   "source": [
    "fruits =[1,2,2,3,4,5,6,6,5,3,45,6,5,6,4,2,1]\n",
    "freq = {}\n",
    "for i in range(len(fruits)):\n",
    "    freq[fruits[i]]=freq.get(fruits[i],0) +1\n",
    "print(freq)\n",
    "\n"
   ]
  },
  {
   "cell_type": "code",
   "execution_count": 154,
   "id": "eae0fec8",
   "metadata": {},
   "outputs": [
    {
     "data": {
      "text/plain": [
       "{1: 2, 2: 3, 3: 2, 4: 2, 5: 3, 6: 4, 45: 1}"
      ]
     },
     "execution_count": 154,
     "metadata": {},
     "output_type": "execute_result"
    }
   ],
   "source": [
    "freq = {fruit: fruits.count(fruit) for fruit in set(fruits)}\n",
    "freq"
   ]
  },
  {
   "cell_type": "code",
   "execution_count": 148,
   "id": "6cf26d7c",
   "metadata": {},
   "outputs": [
    {
     "name": "stdout",
     "output_type": "stream",
     "text": [
      "{1: 4, 2: 6, 3: 4, 4: 4, 5: 6, 6: 8, 45: 2}\n"
     ]
    }
   ],
   "source": [
    "for i in fruits:\n",
    "    if i in freq:\n",
    "        freq[i] +=1\n",
    "    else:\n",
    "        freq[i] = 1\n",
    "print(freq)"
   ]
  },
  {
   "cell_type": "code",
   "execution_count": 192,
   "id": "f12b0513",
   "metadata": {},
   "outputs": [
    {
     "name": "stdout",
     "output_type": "stream",
     "text": [
      "(1, 3)\n",
      "(0, 4)\n",
      "[None, None]\n"
     ]
    }
   ],
   "source": [
    "lists = [1,2,3,4,5,6,7,8,9,10]\n",
    "target = 6\n",
    "result = {}\n",
    "list = []\n",
    "for i, num in enumerate(lists):\n",
    "    complement = target - num\n",
    "    if complement in result:\n",
    "        list.append(print((result[complement], i)))\n",
    "    result[num] = i\n",
    "print(list)\n"
   ]
  },
  {
   "cell_type": "code",
   "execution_count": 152,
   "id": "ff69d225",
   "metadata": {},
   "outputs": [
    {
     "name": "stdout",
     "output_type": "stream",
     "text": [
      "{'a': 4}\n"
     ]
    }
   ],
   "source": [
    "fruit = [\"apple\", \"banana\", \"cherry\", \"mango\"]\n",
    "\n",
    "dict1  = {}\n",
    "\n",
    "for i in fruit:\n",
    "        if \"a\" in dict1:\n",
    "            dict1['a'] +=1\n",
    "        else:\n",
    "            dict1['a'] = 1\n",
    "print(dict1)"
   ]
  }
 ],
 "metadata": {
  "kernelspec": {
   "display_name": "Python 3 (ipykernel)",
   "language": "python",
   "name": "python3"
  },
  "language_info": {
   "codemirror_mode": {
    "name": "ipython",
    "version": 3
   },
   "file_extension": ".py",
   "mimetype": "text/x-python",
   "name": "python",
   "nbconvert_exporter": "python",
   "pygments_lexer": "ipython3",
   "version": "3.12.3"
  }
 },
 "nbformat": 4,
 "nbformat_minor": 5
}
