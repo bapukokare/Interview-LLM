{
 "cells": [
  {
   "cell_type": "code",
   "execution_count": 1,
   "metadata": {},
   "outputs": [],
   "source": [
    "s = {}"
   ]
  },
  {
   "cell_type": "markdown",
   "metadata": {},
   "source": [
    "blank set return type dictionary"
   ]
  },
  {
   "cell_type": "code",
   "execution_count": 2,
   "metadata": {},
   "outputs": [
    {
     "data": {
      "text/plain": [
       "dict"
      ]
     },
     "execution_count": 2,
     "metadata": {},
     "output_type": "execute_result"
    }
   ],
   "source": [
    "type(s)"
   ]
  },
  {
   "cell_type": "code",
   "execution_count": 3,
   "metadata": {},
   "outputs": [
    {
     "data": {
      "text/plain": [
       "set"
      ]
     },
     "execution_count": 3,
     "metadata": {},
     "output_type": "execute_result"
    }
   ],
   "source": [
    "s={1,2,3,45,6,6}\n",
    "type(s)"
   ]
  },
  {
   "cell_type": "markdown",
   "metadata": {},
   "source": [
    "Remove Duplicates"
   ]
  },
  {
   "cell_type": "code",
   "execution_count": 4,
   "metadata": {},
   "outputs": [
    {
     "data": {
      "text/plain": [
       "{1, 2, 3, 4, 5, 6, 44, 45, 55}"
      ]
     },
     "execution_count": 4,
     "metadata": {},
     "output_type": "execute_result"
    }
   ],
   "source": [
    "s1={1,1,2,3,4,5,5,2,3,45,6,44,55,55,55}\n",
    "s1"
   ]
  },
  {
   "cell_type": "code",
   "execution_count": 5,
   "metadata": {},
   "outputs": [],
   "source": [
    "# in file extract unique words easily\n",
    "#set always try to hold unique elements"
   ]
  },
  {
   "cell_type": "code",
   "execution_count": 6,
   "metadata": {},
   "outputs": [
    {
     "name": "stdout",
     "output_type": "stream",
     "text": [
      "list: [32, 1, 2, 3, 4, 5, 6]\n",
      "tuple: (32, 1, 2, 3, 4, 5, 6)\n",
      "set: {32, 1, 2, 3, 4, 5, 6}\n"
     ]
    }
   ],
   "source": [
    "# conver set to list, list to tuple, \n",
    "s2={1,2,32,3,4,2,1,4,5,6}\n",
    "l= list(s2)\n",
    "print(f\"list: {l}\")\n",
    "t= tuple(s2)\n",
    "print(f\"tuple: {t}\")\n",
    "print(f\"set: {s2}\")"
   ]
  },
  {
   "cell_type": "markdown",
   "metadata": {},
   "source": [
    "Unhashable type list"
   ]
  },
  {
   "cell_type": "code",
   "execution_count": 9,
   "metadata": {},
   "outputs": [
    {
     "ename": "TypeError",
     "evalue": "unhashable type: 'list'",
     "output_type": "error",
     "traceback": [
      "\u001b[1;31m---------------------------------------------------------------------------\u001b[0m",
      "\u001b[1;31mTypeError\u001b[0m                                 Traceback (most recent call last)",
      "Cell \u001b[1;32mIn[9], line 1\u001b[0m\n\u001b[1;32m----> 1\u001b[0m s3 \u001b[38;5;241m=\u001b[39m {\u001b[38;5;241m1\u001b[39m,\u001b[38;5;241m3\u001b[39m,\u001b[38;5;241m4\u001b[39m,\u001b[38;5;241m5\u001b[39m,\u001b[38;5;241m5\u001b[39m,[\u001b[38;5;241m1\u001b[39m,\u001b[38;5;241m2\u001b[39m,\u001b[38;5;241m3\u001b[39m,\u001b[38;5;241m4\u001b[39m,\u001b[38;5;241m5\u001b[39m]}\n",
      "\u001b[1;31mTypeError\u001b[0m: unhashable type: 'list'"
     ]
    }
   ],
   "source": [
    "s3 = {1,3,4,5,5,[1,2,3,4,5]}\n"
   ]
  },
  {
   "cell_type": "code",
   "execution_count": 10,
   "metadata": {},
   "outputs": [],
   "source": [
    "s3 = {1,3,4,5,5,(1,2,3,4,5)}"
   ]
  },
  {
   "cell_type": "code",
   "execution_count": 11,
   "metadata": {},
   "outputs": [
    {
     "data": {
      "text/plain": [
       "{2, 3, 4, 5, 'Bapu', 'bapu', 'kokare'}"
      ]
     },
     "execution_count": 11,
     "metadata": {},
     "output_type": "execute_result"
    }
   ],
   "source": [
    "s4 = {\"Bapu\", \"bapu\", 2,3,4,5, \"kokare\",\"kokare\"}\n",
    "s4"
   ]
  },
  {
   "cell_type": "code",
   "execution_count": 13,
   "metadata": {},
   "outputs": [
    {
     "data": {
      "text/plain": [
       "55"
      ]
     },
     "execution_count": 13,
     "metadata": {},
     "output_type": "execute_result"
    }
   ],
   "source": [
    "# index concept\n",
    "s5 = {1,2,3,4,55,6,\"Bapu\"}\n",
    "s6= list(s5)\n",
    "s6[4]\n"
   ]
  },
  {
   "cell_type": "code",
   "execution_count": 14,
   "metadata": {},
   "outputs": [
    {
     "ename": "TypeError",
     "evalue": "'set' object is not subscriptable",
     "output_type": "error",
     "traceback": [
      "\u001b[1;31m---------------------------------------------------------------------------\u001b[0m",
      "\u001b[1;31mTypeError\u001b[0m                                 Traceback (most recent call last)",
      "Cell \u001b[1;32mIn[14], line 1\u001b[0m\n\u001b[1;32m----> 1\u001b[0m \u001b[43ms5\u001b[49m\u001b[43m[\u001b[49m\u001b[38;5;241;43m0\u001b[39;49m\u001b[43m]\u001b[49m\n",
      "\u001b[1;31mTypeError\u001b[0m: 'set' object is not subscriptable"
     ]
    }
   ],
   "source": [
    "s5[0]"
   ]
  },
  {
   "cell_type": "code",
   "execution_count": 18,
   "metadata": {},
   "outputs": [
    {
     "name": "stdout",
     "output_type": "stream",
     "text": [
      "2\n",
      "66\n",
      "3\n",
      "4\n",
      "5\n",
      "Bapu\n"
     ]
    }
   ],
   "source": [
    "s7 = {2,3,4,5,66,'Bapu'}\n",
    "for i in s7:\n",
    "    print(i)"
   ]
  },
  {
   "cell_type": "code",
   "execution_count": 19,
   "metadata": {},
   "outputs": [
    {
     "data": {
      "text/plain": [
       "{2, 3, 4, 5, 56, 66, 'Bapu'}"
      ]
     },
     "execution_count": 19,
     "metadata": {},
     "output_type": "execute_result"
    }
   ],
   "source": [
    "s7.add(56)\n",
    "s7"
   ]
  },
  {
   "cell_type": "code",
   "execution_count": 20,
   "metadata": {},
   "outputs": [
    {
     "data": {
      "text/plain": [
       "{2, 3, 4, 5, 56, 66, 'Bapu'}"
      ]
     },
     "execution_count": 20,
     "metadata": {},
     "output_type": "execute_result"
    }
   ],
   "source": [
    "#if element already available it will not add element\n",
    "s7.add(2)\n",
    "s7"
   ]
  },
  {
   "cell_type": "code",
   "execution_count": 21,
   "metadata": {},
   "outputs": [
    {
     "data": {
      "text/plain": [
       "7"
      ]
     },
     "execution_count": 21,
     "metadata": {},
     "output_type": "execute_result"
    }
   ],
   "source": [
    "len(s7)"
   ]
  },
  {
   "cell_type": "code",
   "execution_count": 24,
   "metadata": {},
   "outputs": [
    {
     "data": {
      "text/plain": [
       "{3, 4, 5, 56, 'Bapu'}"
      ]
     },
     "execution_count": 24,
     "metadata": {},
     "output_type": "execute_result"
    }
   ],
   "source": [
    "s7.pop()\n",
    "s7"
   ]
  },
  {
   "cell_type": "code",
   "execution_count": 23,
   "metadata": {},
   "outputs": [
    {
     "data": {
      "text/plain": [
       "{3, 4, 5, 56, 66, 'Bapu'}"
      ]
     },
     "execution_count": 23,
     "metadata": {},
     "output_type": "execute_result"
    }
   ],
   "source": [
    "s7.pop()\n",
    "s7"
   ]
  },
  {
   "cell_type": "code",
   "execution_count": 25,
   "metadata": {},
   "outputs": [],
   "source": [
    "# remove and adding in sets is possible"
   ]
  },
  {
   "cell_type": "code",
   "execution_count": 26,
   "metadata": {},
   "outputs": [
    {
     "data": {
      "text/plain": [
       "set()"
      ]
     },
     "execution_count": 26,
     "metadata": {},
     "output_type": "execute_result"
    }
   ],
   "source": [
    "#create empy set\n",
    "s7.clear()\n",
    "s7"
   ]
  },
  {
   "cell_type": "code",
   "execution_count": 28,
   "metadata": {},
   "outputs": [
    {
     "data": {
      "text/plain": [
       "set()"
      ]
     },
     "execution_count": 28,
     "metadata": {},
     "output_type": "execute_result"
    }
   ],
   "source": [
    "#check difference in two sets\n",
    "s8={1,2,3,4,5}\n",
    "s9={1,2,3}\n",
    "s9.difference(s8)"
   ]
  },
  {
   "cell_type": "code",
   "execution_count": 29,
   "metadata": {},
   "outputs": [
    {
     "data": {
      "text/plain": [
       "set()"
      ]
     },
     "execution_count": 29,
     "metadata": {},
     "output_type": "execute_result"
    }
   ],
   "source": [
    "s9.difference(s8)"
   ]
  },
  {
   "cell_type": "markdown",
   "metadata": {},
   "source": [
    "# More Interview Questions on Sets\n",
    "\n",
    "1. **What is a set in Python and how is it different from a list?**\n",
    "- A set is an unordered collection of unique elements. Unlike lists, sets do not allow duplicate elements and do not maintain any order."
   ]
  },
  {
   "cell_type": "markdown",
   "metadata": {},
   "source": [
    "2. **How do you create a set in Python?**\n",
    "    - You can create a set by using curly braces `{}` or the `set()` function. Example:\n",
    "      ```python\n",
    "      my_set = {1, 2, 3}\n",
    "      another_set = set([4, 5, 6])\n",
    "      ```"
   ]
  },
  {
   "cell_type": "markdown",
   "metadata": {},
   "source": [
    "3 . **How can you add elements to a set?**\n",
    "    - You can add elements to a set using the `add()` method. Example:\n",
    "      ```python\n",
    "      my_set.add(4)\n",
    "      ```"
   ]
  },
  {
   "cell_type": "markdown",
   "metadata": {},
   "source": [
    "4. **How can you remove elements from a set?**\n",
    "    - You can remove elements using the `remove()` or `discard()` methods. Example:\n",
    "      ```python\n",
    "      my_set.remove(2)  # Raises KeyError if element is not found\n",
    "      my_set.discard(3)  # Does not raise an error if element is not found\n",
    "      ```\n"
   ]
  },
  {
   "cell_type": "markdown",
   "metadata": {},
   "source": [
    "5. **What is the difference between `remove()` and `discard()` methods in sets?**\n",
    "    - The `remove()` method raises a `KeyError` if the element is not found in the set, whereas the `discard()` method does not raise an error if the element is not found.\n"
   ]
  },
  {
   "cell_type": "markdown",
   "metadata": {},
   "source": [
    "6. **How do you find the union of two sets?**\n",
    "    - You can find the union of two sets using the `union()` method or the `|` operator. Example:\n",
    "      ```python\n",
    "      set1 = {1, 2, 3}\n",
    "      set2 = {3, 4, 5}\n",
    "      union_set = set1.union(set2)\n",
    "      # or\n",
    "      union_set = set1 | set2\n",
    "      ```\n"
   ]
  },
  {
   "cell_type": "code",
   "execution_count": 35,
   "metadata": {},
   "outputs": [],
   "source": [
    "set1 = {1, 2, 3}\n",
    "set2 = {3, 4, 5}"
   ]
  },
  {
   "cell_type": "markdown",
   "metadata": {},
   "source": [
    "7. **How do you find the intersection of two sets?**\n",
    "    - You can find the intersection of two sets using the `intersection()` method or the `&` operator. Example:\n",
    "      ```python\n",
    "      intersection_set = set1.intersection(set2)\n",
    "      # or\n",
    "      intersection_set = set1 & set2\n",
    "      ```\n"
   ]
  },
  {
   "cell_type": "code",
   "execution_count": 36,
   "metadata": {},
   "outputs": [],
   "source": [
    "intersection_set = set1 & set2"
   ]
  },
  {
   "cell_type": "markdown",
   "metadata": {},
   "source": [
    "8. **How do you find the difference between two sets?**\n",
    "    - You can find the difference between two sets using the `difference()` method or the `-` operator. Example:\n",
    "      ```python\n",
    "      difference_set = set1.difference(set2)\n",
    "      # or\n",
    "      difference_set = set1 - set2\n",
    "      ```\n"
   ]
  },
  {
   "cell_type": "code",
   "execution_count": 38,
   "metadata": {},
   "outputs": [
    {
     "data": {
      "text/plain": [
       "{1, 2}"
      ]
     },
     "execution_count": 38,
     "metadata": {},
     "output_type": "execute_result"
    }
   ],
   "source": [
    "difference_set = set1 - set2\n",
    "difference_set"
   ]
  },
  {
   "cell_type": "markdown",
   "metadata": {},
   "source": [
    "9. **How do you find the symmetric difference between two sets?**\n",
    "    - You can find the symmetric difference using the `symmetric_difference()` method or the `^` operator. Example:\n",
    "      ```python\n",
    "      sym_diff_set = set1.symmetric_difference(set2)\n",
    "      # or\n",
    "      sym_diff_set = set1 ^ set2\n",
    "      ```\n"
   ]
  },
  {
   "cell_type": "code",
   "execution_count": 40,
   "metadata": {},
   "outputs": [
    {
     "data": {
      "text/plain": [
       "{1, 2, 4, 5}"
      ]
     },
     "execution_count": 40,
     "metadata": {},
     "output_type": "execute_result"
    }
   ],
   "source": [
    "symmetric_difference_set = set1 ^ set2\n",
    "symmetric_difference_set"
   ]
  },
  {
   "cell_type": "markdown",
   "metadata": {},
   "source": [
    "10. **Can you store a list or a dictionary in a set? Why or why not?**\n",
    "     - No, you cannot store a list or a dictionary in a set because they are mutable and not hashable. Sets require their elements to be hashable.\n"
   ]
  },
  {
   "cell_type": "markdown",
   "metadata": {},
   "source": [
    "11. **How do you check if a set is a subset of another set?**\n",
    "     - You can check if a set is a subset of another set using the `issubset()` method or the `<=` operator. Example:\n",
    "        ```python\n",
    "        set1 = {1, 2, 3}\n",
    "        set2 = {1, 2, 3, 4, 5}\n",
    "        is_subset = set1.issubset(set2)\n",
    "        # or\n",
    "        is_subset = set1 <= set2\n"
   ]
  },
  {
   "cell_type": "code",
   "execution_count": 42,
   "metadata": {},
   "outputs": [
    {
     "data": {
      "text/plain": [
       "False"
      ]
     },
     "execution_count": 42,
     "metadata": {},
     "output_type": "execute_result"
    }
   ],
   "source": [
    "is_Subset = set1 <= set2\n",
    "is_Subset"
   ]
  },
  {
   "cell_type": "markdown",
   "metadata": {},
   "source": [
    "12. **How do you check if a set is a superset of another set?**\n",
    "     - You can check if a set is a superset of another set using the `issuperset()` method or the `>=` operator. Example:\n",
    "        ```python\n",
    "        is_superset = set2.issuperset(set1)\n",
    "        # or\n",
    "        is_superset = set2 >= set1\n",
    "        ```"
   ]
  },
  {
   "cell_type": "code",
   "execution_count": 43,
   "metadata": {},
   "outputs": [
    {
     "data": {
      "text/plain": [
       "False"
      ]
     },
     "execution_count": 43,
     "metadata": {},
     "output_type": "execute_result"
    }
   ],
   "source": [
    "is_Superset = set1 >= set2\n",
    "is_Superset"
   ]
  },
  {
   "cell_type": "markdown",
   "metadata": {},
   "source": [
    "13. **What is a frozen set?**\n",
    "     - A frozen set is an immutable version of a set. You can create a frozen set using the `frozenset()` function. Example:\n",
    "        ```python\n",
    "        frozen_set = frozenset([1, 2, 3])\n",
    "        ```\n",
    "      - Frozen sets are useful in situations where you need a set that should not be modified after creation. They can be used as keys in dictionaries or elements of other sets because they are hashable."
   ]
  },
  {
   "cell_type": "code",
   "execution_count": 44,
   "metadata": {},
   "outputs": [],
   "source": [
    "frozen_set = frozenset([1, 2, 3, 4, 5])"
   ]
  },
  {
   "cell_type": "markdown",
   "metadata": {},
   "source": [
    "14. **How do you iterate over elements in a set?**\n",
    "     - You can iterate over elements in a set using a `for` loop. Example:\n",
    "        ```python\n",
    "        for element in my_set:\n",
    "             print(element)\n",
    "        ```\n"
   ]
  },
  {
   "cell_type": "code",
   "execution_count": 45,
   "metadata": {},
   "outputs": [
    {
     "name": "stdout",
     "output_type": "stream",
     "text": [
      "1\n",
      "2\n",
      "3\n"
     ]
    }
   ],
   "source": [
    "for element in set1:\n",
    "    print(element)"
   ]
  },
  {
   "cell_type": "markdown",
   "metadata": {},
   "source": [
    "15. **How do you find the length of a set?**\n",
    "     - You can find the length of a set using the `len()` function. Example:\n",
    "        ```python\n",
    "        length = len(my_set)\n",
    "        ```"
   ]
  },
  {
   "cell_type": "markdown",
   "metadata": {},
   "source": [
    "\n",
    "15. **How do you find the length of a set?**\n",
    "     - You can find the length of a set using the `len()` function. Example:\n",
    "        ```python\n",
    "        length = len(my_set)\n",
    "        ```"
   ]
  },
  {
   "cell_type": "code",
   "execution_count": 33,
   "metadata": {},
   "outputs": [
    {
     "data": {
      "text/plain": [
       "{1, 2, 3, 4, 5}"
      ]
     },
     "execution_count": 33,
     "metadata": {},
     "output_type": "execute_result"
    }
   ],
   "source": [
    "set1 = {1, 2, 3}\n",
    "set2 = {3, 4, 5}\n",
    "union_set = set1.union(set2)\n",
    "# or\n",
    "#union_set = set1 | set2\n",
    "\n",
    "union_set"
   ]
  },
  {
   "cell_type": "markdown",
   "metadata": {},
   "source": [
    "# More Medium and Complex Interview Questions on Sets\n",
    "\n",
    "16. **How do you check if two sets are disjoint?**\n",
    "    - You can check if two sets are disjoint using the `isdisjoint()` method. Example:\n",
    "      ```python\n",
    "      set1 = {1, 2, 3}\n",
    "      set2 = {4, 5, 6}\n",
    "      are_disjoint = set1.isdisjoint(set2)\n",
    "      ```\n",
    "\n",
    "In the context of sets, \"disjoint\" means that two sets have no elements in common. If two sets are disjoint, their intersection is an empty set."
   ]
  },
  {
   "cell_type": "code",
   "execution_count": 47,
   "metadata": {},
   "outputs": [
    {
     "data": {
      "text/plain": [
       "False"
      ]
     },
     "execution_count": 47,
     "metadata": {},
     "output_type": "execute_result"
    }
   ],
   "source": [
    "set1 = {1, 2, 3}\n",
    "set2 = {4, 5, 6}\n",
    "are_disjoint = set1.isdisjoint(set2)\n",
    "are_disjoint"
   ]
  },
  {
   "cell_type": "markdown",
   "metadata": {},
   "source": [
    "17. **How do you find the Cartesian product of two sets?**\n",
    "    - You can find the Cartesian product of two sets using a nested loop or the `itertools.product` function. Example:\n",
    "      ```python\n",
    "      import itertools\n",
    "      set1 = {1, 2}\n",
    "      set2 = {3, 4}\n",
    "      cartesian_product = set(itertools.product(set1, set2))\n",
    "      ```\n"
   ]
  },
  {
   "cell_type": "code",
   "execution_count": 50,
   "metadata": {},
   "outputs": [
    {
     "data": {
      "text/plain": [
       "{(1, 4), (1, 5), (1, 6), (2, 4), (2, 5), (2, 6), (3, 4), (3, 5), (3, 6)}"
      ]
     },
     "execution_count": 50,
     "metadata": {},
     "output_type": "execute_result"
    }
   ],
   "source": [
    "import itertools\n",
    "set1 = {1, 2, 3}\n",
    "set2 = {4, 5, 6}\n",
    "cartesian_product = set(itertools.product(set1, set2))\n",
    "cartesian_product\n"
   ]
  },
  {
   "cell_type": "markdown",
   "metadata": {},
   "source": [
    "18. **How do you perform set operations on more than two sets?**\n",
    "    - You can perform set operations on more than two sets using methods like `union()`, `intersection()`, and `difference()`. Example:\n",
    "      ```python\n",
    "      set1 = {1, 2, 3}\n",
    "      set2 = {3, 4, 5}\n",
    "      set3 = {5, 6, 7}\n",
    "      union_all = set1.union(set2, set3)\n",
    "      intersection_all = set1.intersection(set2, set3)\n",
    "      ```\n"
   ]
  },
  {
   "cell_type": "code",
   "execution_count": 52,
   "metadata": {},
   "outputs": [
    {
     "name": "stdout",
     "output_type": "stream",
     "text": [
      ":: {1, 2, 3, 4, 5, 6, 7}\n"
     ]
    },
    {
     "data": {
      "text/plain": [
       "set()"
      ]
     },
     "execution_count": 52,
     "metadata": {},
     "output_type": "execute_result"
    }
   ],
   "source": [
    "set1 = {1, 2, 3}\n",
    "set2 = {3, 4, 5}\n",
    "set3 = {5, 6, 7}\n",
    "union_all = set1.union(set2, set3)\n",
    "print(\"::\",union_all)\n",
    "intersection_all = set1.intersection(set2, set3)\n",
    "intersection_all"
   ]
  },
  {
   "cell_type": "markdown",
   "metadata": {},
   "source": [
    "19. **How do you remove all elements from a set that are present in another set?**\n",
    "    - You can remove all elements from a set that are present in another set using the `difference_update()` method. Example:\n",
    "      ```python\n",
    "      set1 = {1, 2, 3, 4, 5}\n",
    "      set2 = {3, 4}\n",
    "      set1.difference_update(set2)\n",
    "      ```\n"
   ]
  },
  {
   "cell_type": "code",
   "execution_count": 53,
   "metadata": {},
   "outputs": [],
   "source": [
    "set1 = {1, 2, 3, 4, 5}\n",
    "set2 = {3, 4}\n",
    "set1.difference_update(set2)"
   ]
  },
  {
   "cell_type": "markdown",
   "metadata": {},
   "source": [
    "20. **How do you find the maximum and minimum values in a set?**\n",
    "    - You can find the maximum and minimum values in a set using the `max()` and `min()` functions. Example:\n",
    "      ```python\n",
    "      my_set = {1, 2, 3, 4, 5}\n",
    "      max_value = max(my_set)\n",
    "      min_value = min(my_set)\n",
    "      ```\n"
   ]
  },
  {
   "cell_type": "code",
   "execution_count": 55,
   "metadata": {},
   "outputs": [
    {
     "name": "stdout",
     "output_type": "stream",
     "text": [
      "max 5\n",
      "min 1\n"
     ]
    }
   ],
   "source": [
    "my_set = {1, 2, 3, 4, 5}\n",
    "max_value = max(my_set)\n",
    "print('max', max_value)\n",
    "min_value = min(my_set)\n",
    "print('min', min_value)\n"
   ]
  },
  {
   "cell_type": "markdown",
   "metadata": {},
   "source": [
    "21. **How do you create a set of sets?**\n",
    "    - You can create a set of sets by using `frozenset` for the inner sets since sets themselves are not hashable. Example:\n",
    "      ```python\n",
    "      set_of_sets = {frozenset({1, 2}), frozenset({3, 4})}\n",
    "      ```\n"
   ]
  },
  {
   "cell_type": "code",
   "execution_count": 59,
   "metadata": {},
   "outputs": [
    {
     "name": "stdout",
     "output_type": "stream",
     "text": [
      "frozenset({3, 4}) <class 'frozenset'>\n",
      "frozenset({1, 2}) <class 'frozenset'>\n"
     ]
    }
   ],
   "source": [
    "set_of_sets = {frozenset({1, 2}), frozenset({3, 4})}\n",
    "for i in set_of_sets:\n",
    "    print(i, type(i))"
   ]
  },
  {
   "cell_type": "markdown",
   "metadata": {},
   "source": [
    "22. **How do you find common elements in multiple sets?**\n",
    "    - You can find common elements in multiple sets using the `intersection()` method. Example:\n",
    "      ```python\n",
    "      set1 = {1, 2, 3}\n",
    "      set2 = {2, 3, 4}\n",
    "      set3 = {3, 4, 5}\n",
    "      common_elements = set1.intersection(set2, set3)\n",
    "      ```\n"
   ]
  },
  {
   "cell_type": "code",
   "execution_count": 60,
   "metadata": {},
   "outputs": [
    {
     "data": {
      "text/plain": [
       "{3}"
      ]
     },
     "execution_count": 60,
     "metadata": {},
     "output_type": "execute_result"
    }
   ],
   "source": [
    "set1 = {1, 2, 3}\n",
    "set2 = {2, 3, 4}\n",
    "set3 = {3, 4, 5}\n",
    "common_elements = set1.intersection(set2, set3)\n",
    "common_elements"
   ]
  },
  {
   "cell_type": "markdown",
   "metadata": {},
   "source": [
    "23. **How do you find elements that are in one set but not in another?**\n",
    "    - You can find elements that are in one set but not in another using the `difference()` method. Example:\n",
    "      ```python\n",
    "      set1 = {1, 2, 3, 4, 5}\n",
    "      set2 = {3, 4, 5, 6, 7}\n",
    "      unique_to_set1 = set1.difference(set2)\n",
    "      ```\n"
   ]
  },
  {
   "cell_type": "code",
   "execution_count": 61,
   "metadata": {},
   "outputs": [
    {
     "data": {
      "text/plain": [
       "{1, 2}"
      ]
     },
     "execution_count": 61,
     "metadata": {},
     "output_type": "execute_result"
    }
   ],
   "source": [
    "set1 = {1, 2, 3, 4, 5}\n",
    "set2 = {3, 4, 5, 6, 7}\n",
    "unique_to_set1 = set1.difference(set2)\n",
    "unique_to_set1"
   ]
  },
  {
   "cell_type": "markdown",
   "metadata": {},
   "source": [
    "24. **How do you update a set with elements from another set?**\n",
    "    - You can update a set with elements from another set using the `update()` method. Example:\n",
    "      ```python\n",
    "      set1 = {1, 2, 3}\n",
    "      set2 = {4, 5}\n",
    "      set1.update(set2)\n",
    "      ```\n"
   ]
  },
  {
   "cell_type": "code",
   "execution_count": 62,
   "metadata": {},
   "outputs": [],
   "source": [
    "set1 = {1, 2, 3}\n",
    "set2 = {4, 5}\n",
    "set1.update(set2)"
   ]
  },
  {
   "cell_type": "markdown",
   "metadata": {},
   "source": [
    "25. **How do you find the length of the longest set in a list of sets?**\n",
    "    - You can find the length of the longest set in a list of sets using the `max()` function with a key argument. Example:\n",
    "      ```python\n",
    "      \n",
    "      sets = [{1, 2}, {1, 2, 3, 4}, {1}]\n",
    "      longest_set_length = max(sets, key=len)\n",
    "      ```\n",
    "```"
   ]
  },
  {
   "cell_type": "code",
   "execution_count": 64,
   "metadata": {},
   "outputs": [
    {
     "data": {
      "text/plain": [
       "{1, 2, 3, 4}"
      ]
     },
     "execution_count": 64,
     "metadata": {},
     "output_type": "execute_result"
    }
   ],
   "source": [
    "sets = [{1, 2}, {1, 2, 3, 4}, {1}]\n",
    "longest_set_length = max(sets, key=len)\n",
    "longest_set_length"
   ]
  },
  {
   "cell_type": "markdown",
   "metadata": {},
   "source": [
    "import itertools\n",
    "\n",
    "26. **How do you find the power set of a set?**\n",
    "    - You can find the power set (the set of all subsets) of a set using the `itertools.chain` and `itertools.combinations` functions. Example:\n",
    "      ```python\n",
    "\n",
    "      def power_set(s):\n",
    "          return set(itertools.chain.from_iterable(itertools.combinations(s, r) for r in range(len(s)+1)))\n",
    "\n",
    "      my_set = {1, 2, 3}\n",
    "      power_set_result = power_set(my_set)\n",
    "      ```\n",
    "    my_set = {1, 2, 3}\n",
    "    power_set_result = power_set(my_set)\n",
    "    power_set_result"
   ]
  },
  {
   "cell_type": "code",
   "execution_count": 66,
   "metadata": {},
   "outputs": [
    {
     "data": {
      "text/plain": [
       "{(), (1,), (1, 2), (1, 2, 3), (1, 3), (2,), (2, 3), (3,)}"
      ]
     },
     "execution_count": 66,
     "metadata": {},
     "output_type": "execute_result"
    }
   ],
   "source": [
    "def power_set(s):\n",
    "    return set(itertools.chain.from_iterable(itertools.combinations(s, r) for r in range(len(s)+1)))\n",
    "\n",
    "my_set = {1, 2, 3}\n",
    "power_set_result = power_set(my_set)\n",
    "power_set_result"
   ]
  }
 ],
 "metadata": {
  "kernelspec": {
   "display_name": "late_env",
   "language": "python",
   "name": "python3"
  },
  "language_info": {
   "codemirror_mode": {
    "name": "ipython",
    "version": 3
   },
   "file_extension": ".py",
   "mimetype": "text/x-python",
   "name": "python",
   "nbconvert_exporter": "python",
   "pygments_lexer": "ipython3",
   "version": "3.12.3"
  }
 },
 "nbformat": 4,
 "nbformat_minor": 2
}
